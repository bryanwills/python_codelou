{
  "nbformat": 4,
  "nbformat_minor": 0,
  "metadata": {
    "colab": {
      "name": "stock_price_prediction_app.ipynb",
      "provenance": [],
      "authorship_tag": "ABX9TyN5HuBV0/E1pXKVUjbxoadv",
      "include_colab_link": true
    },
    "kernelspec": {
      "name": "python3",
      "display_name": "Python 3"
    },
    "language_info": {
      "name": "python"
    }
  },
  "cells": [
    {
      "cell_type": "markdown",
      "metadata": {
        "id": "view-in-github",
        "colab_type": "text"
      },
      "source": [
        "<a href=\"https://colab.research.google.com/github/bryanwills/python_codelou/blob/main/real_estate_property_info.ipynb\" target=\"_parent\"><img src=\"https://colab.research.google.com/assets/colab-badge.svg\" alt=\"Open In Colab\"/></a>"
      ]
    },
    {
      "cell_type": "markdown",
      "source": [
        "Step 1 - Imports"
      ],
      "metadata": {
        "id": "aQYsRd0fKqDk"
      }
    },
    {
      "cell_type": "code",
      "execution_count": 1,
      "metadata": {
        "id": "6ZH6P5OZIgOx"
      },
      "outputs": [],
      "source": [
        "import requests\n",
        "import pandas as pd"
      ]
    },
    {
      "cell_type": "markdown",
      "source": [
        "Go to realtor.ca site, enter in a search. My example: \"Ottawa, ON\".\n",
        "After making this search, open up DevTools, click on Network and go through the files and locate the query in the form of a curl command. Convert the curl command to a Python request and paste the output below in Step 2. I just Googled curl to python converter.\n",
        "\n",
        "This site was chosen due to the fact that I can pull out their API from dev tools without having to sign up for an API."
      ],
      "metadata": {
        "id": "Upavv1R4Ns8c"
      }
    },
    {
      "cell_type": "markdown",
      "source": [
        "Step 2 - Requests & URL\n"
      ],
      "metadata": {
        "id": "3rCPxzm_KvBv"
      }
    },
    {
      "cell_type": "code",
      "source": [
        "headers = {\n",
        "    'authority': 'api2.realtor.ca',\n",
        "    'accept': '*/*',\n",
        "    'accept-language': 'en-US,en;q=0.9,cs;q=0.8',\n",
        "    'content-type': 'application/x-www-form-urlencoded; charset=UTF-8',\n",
        "    'cookie': 'visid_incap_2269415=DRpcY4I3SjKFMfalMxSftyaK6WIAAAAAQUIPAAAAAACvrLYGe+e3wDZmQZfgEaBA; nlbi_2269415=B6YSQ7YtUCMAjnPWn2FYxQAAAACYHLiQKXa5Yo8sEYT9lH/D; incap_ses_1291_2269415=SdugIV1PHwRJVXABPo7qESaK6WIAAAAA8vWAvOTCm3r54LL1BaCVtA==; incap_ses_116_2269415=FM63c0UCPQHIXBz0Kh6cASeK6WIAAAAA9WPFdt5xRRbegjs061rpqw==; reese84=3:W3xEMitJn4FeyQaF2XIXWQ==:p7Gd6DFbHB7lgs8ZiewNBgGqjQLo3wb7ZgLM5HEqdiD5sN4Mr44u810tBQhqV2vjU2U1jZhk1XUUaxH3SE6rRKOZt2IsJBaY91rEmL/BfA9TmyLmjn+zJzFmdGtmAiChQgjCUv8dENZu7G/vy9dAv2VS2qzg0HdfHvG9N6GpzCGi9tItYSFdAC8W6Hf1v7ru/vUdI9Gswb/t3vvtWsVgd0VwG0/MuhT3PJHUsJuK826Fry8SmmvyvBkYGWDIE/+2lgErv/802OoFzhg3SoNuJAU5wWhb00pBiZGi02wn5GRKByp4s/E2VoVX6arUlcELR5JUvMfIAehQsgzhbw4HOSKf5nJaZYKSYpYhSV/lyUoqp54LPEcLOcJiPaisJj2GJPoKHsQqa2LX7yNuFJCgwYL/h/luyeyPr/f5IKQnqGA=:/enhsFfOjcbixgt8+8usYgkzfKJI11l1g99of43Onuc=; gig_bootstrap_3_mrQiIl6ov44s2X3j6NGWVZ9SDDtplqV7WgdcyEpGYnYxl7ygDWPQHqQqtpSiUfko=gigya-pr_ver4; ASP.NET_SessionId=4je5mml0zgqlvsnfaxs3egfb; visid_incap_2271082=B8sI/rNOS1O+7SuN27HKhkmK6WIAAAAAQUIPAAAAAADhnJ+CcKEEfvlCTsuuOLuJ; nlbi_2271082=shHQdkaMZgmv7s1ENo2IPAAAAAD0GfZzBej4n1ca1rAudqyl; incap_ses_116_2271082=fbUKUHhRXEGMgxz0Kh6cAUmK6WIAAAAAlXQi/sn9Rh1WHoAG/5A3fg==; nlbi_2269415_2147483392=u6DgadTQhS/ycA2tn2FYxQAAAABhO27gJcvY6w7tSWqOqotq',\n",
        "    'dnt': '1',\n",
        "    'origin': 'https://www.realtor.ca',\n",
        "    'referer': 'https://www.realtor.ca/',\n",
        "    'sec-ch-ua': '^\\\\^.Not/A)Brand^\\\\^;v=^\\\\^99^\\\\^, ^\\\\^Google',\n",
        "    'sec-ch-ua-mobile': '?0',\n",
        "    'sec-ch-ua-platform': '^\\\\^Windows^\\\\^',\n",
        "    'sec-fetch-dest': 'empty',\n",
        "    'sec-fetch-mode': 'cors',\n",
        "    'sec-fetch-site': 'same-site',\n",
        "    'user-agent': 'Mozilla/5.0 (Windows NT 10.0; Win64; x64) AppleWebKit/537.36 (KHTML, like Gecko) Chrome/103.0.0.0 Safari/537.36',\n",
        "}\n",
        "\n",
        "data = {\n",
        "  'ZoomLevel': '10',\n",
        "  'LatitudeMax': '45.61508',\n",
        "  'LongitudeMax': '-75.15382',\n",
        "  'LatitudeMin': '44.88320',\n",
        "  'LongitudeMin': '-76.44608',\n",
        "  'Sort': '6-D',\n",
        "  'PropertyTypeGroupID': '1',\n",
        "  'PropertySearchTypeId': '1',\n",
        "  'TransactionTypeId': '2',\n",
        "  'Currency': 'FXUSDCAD',\n",
        "  'RecordsPerPage': '12',\n",
        "  'ApplicationId': '1',\n",
        "  'CultureId': '1',\n",
        "  'Version': '7.0',\n",
        "  'CurrentPage': '1'\n",
        "}\n",
        "\n",
        "response = requests.post('https://api2.realtor.ca/Listing.svc/PropertySearch_Post', headers=headers, data=data)\n"
      ],
      "metadata": {
        "id": "PCM2vtEhKz7e"
      },
      "execution_count": 2,
      "outputs": []
    },
    {
      "cell_type": "code",
      "source": [
        ""
      ],
      "metadata": {
        "id": "0Ae2ZjxdK0YB"
      },
      "execution_count": 2,
      "outputs": []
    },
    {
      "cell_type": "markdown",
      "source": [
        "Step 3 - Check Status Code"
      ],
      "metadata": {
        "id": "nyxVj_T1K0_h"
      }
    },
    {
      "cell_type": "code",
      "source": [
        "response"
      ],
      "metadata": {
        "colab": {
          "base_uri": "https://localhost:8080/"
        },
        "id": "7_EYJtvxK31v",
        "outputId": "4e565e22-50d3-4bfe-fce8-7c5038ec7915"
      },
      "execution_count": 3,
      "outputs": [
        {
          "output_type": "execute_result",
          "data": {
            "text/plain": [
              "<Response [200]>"
            ]
          },
          "metadata": {},
          "execution_count": 3
        }
      ]
    },
    {
      "cell_type": "markdown",
      "source": [
        "Running this cell gets back a Response [200] indicating that the response from the request ran without problem."
      ],
      "metadata": {
        "id": "W9QnAI9_OZfK"
      }
    },
    {
      "cell_type": "markdown",
      "source": [
        "Step 4 - Create JSON Object"
      ],
      "metadata": {
        "id": "ENWd--t1K4R-"
      }
    },
    {
      "cell_type": "code",
      "source": [
        "result_json = response.json()"
      ],
      "metadata": {
        "id": "iMxyWniJK6n_"
      },
      "execution_count": 4,
      "outputs": []
    },
    {
      "cell_type": "markdown",
      "source": [
        "After running the above code cell, the data that comes back is the information we are looking for in json format."
      ],
      "metadata": {
        "id": "PnSQ8kXGRqI1"
      }
    },
    {
      "cell_type": "markdown",
      "source": [
        "Step 5 - Output Keys\n"
      ],
      "metadata": {
        "id": "WmTpIzkzK7AW"
      }
    },
    {
      "cell_type": "code",
      "source": [
        "result_json.keys()"
      ],
      "metadata": {
        "colab": {
          "base_uri": "https://localhost:8080/"
        },
        "id": "Ru4GYV-kK9Du",
        "outputId": "db5b33fa-dffc-422b-fe62-bbed0ca10e32"
      },
      "execution_count": 5,
      "outputs": [
        {
          "output_type": "execute_result",
          "data": {
            "text/plain": [
              "dict_keys(['ErrorCode', 'Paging', 'Results', 'Pins', 'GroupingLevel'])"
            ]
          },
          "metadata": {},
          "execution_count": 5
        }
      ]
    },
    {
      "cell_type": "markdown",
      "source": [
        "Storing keys from webpage (dev tools). This will allow me to extract specific data later on. Specifically, looking at the 'results' key which contains all the information I want and need."
      ],
      "metadata": {
        "id": "H3UsY4aIR-KK"
      }
    },
    {
      "cell_type": "markdown",
      "source": [
        "Step 6 - Find Data\n",
        "\n",
        "\n",
        "1.   Address\n",
        "2.   Bedrooms\n",
        "3.   Bathrooms\n",
        "4.   Agent Name\n",
        "5.   Area Code\n",
        "6.   Phone Number\n",
        "7.   Price\n",
        "\n",
        "\n"
      ],
      "metadata": {
        "id": "X0vlKYf4K9xM"
      }
    },
    {
      "cell_type": "code",
      "source": [
        "# Starting point\n",
        "result_items = result_json['Results']"
      ],
      "metadata": {
        "id": "Lk6G2cQ9LOvx"
      },
      "execution_count": 6,
      "outputs": []
    },
    {
      "cell_type": "code",
      "source": [
        "len(result_items)"
      ],
      "metadata": {
        "colab": {
          "base_uri": "https://localhost:8080/"
        },
        "id": "xiZEnQxITD-i",
        "outputId": "3f54fd86-225e-424b-e7d4-441fff18c63d"
      },
      "execution_count": 7,
      "outputs": [
        {
          "output_type": "execute_result",
          "data": {
            "text/plain": [
              "12"
            ]
          },
          "metadata": {},
          "execution_count": 7
        }
      ]
    },
    {
      "cell_type": "markdown",
      "source": [
        "Running the above code allows me to see the information from the results dictionary key. If I were to put len(result_json['Results']), I would get back '12' which is the same amount of search results from the website or after storing the results into a variable, I can check the length by the above code. For now, I am going to store that data in result_items variable."
      ],
      "metadata": {
        "id": "nvkaoVNzSf2Z"
      }
    },
    {
      "cell_type": "code",
      "source": [
        "# address of first result using the index of '0'\n",
        "result_items[0]['Property']['Address']['AddressText']\n",
        "# targeting the 'Property' key to get the address since it is within the property key.\n",
        "# Going further to get the specific data I am looking for, I keep going down the 'keys' until I have just the street address I need.\n"
      ],
      "metadata": {
        "colab": {
          "base_uri": "https://localhost:8080/",
          "height": 37
        },
        "id": "rB8CaQsXLOyW",
        "outputId": "ccae9e33-48c1-4c28-c6e3-fdfc1c3459c8"
      },
      "execution_count": 8,
      "outputs": [
        {
          "output_type": "execute_result",
          "data": {
            "text/plain": [
              "'220 Rue Nobert|Gatineau (Gatineau), Quebec J8R0C7'"
            ],
            "application/vnd.google.colaboratory.intrinsic+json": {
              "type": "string"
            }
          },
          "metadata": {},
          "execution_count": 8
        }
      ]
    },
    {
      "cell_type": "code",
      "source": [
        "# Get bedroom information \n",
        "result_items[0]['Building']['Bedrooms']"
      ],
      "metadata": {
        "colab": {
          "base_uri": "https://localhost:8080/",
          "height": 37
        },
        "id": "nslcYak9ULyZ",
        "outputId": "77dc34f8-56d2-4b92-ef8a-9e6890314e2e"
      },
      "execution_count": 9,
      "outputs": [
        {
          "output_type": "execute_result",
          "data": {
            "text/plain": [
              "'3'"
            ],
            "application/vnd.google.colaboratory.intrinsic+json": {
              "type": "string"
            }
          },
          "metadata": {},
          "execution_count": 9
        }
      ]
    },
    {
      "cell_type": "code",
      "source": [
        "# Get bathrooms information\n",
        "result_items[0]['Building']['BathroomTotal']"
      ],
      "metadata": {
        "colab": {
          "base_uri": "https://localhost:8080/",
          "height": 37
        },
        "id": "nIj8X7V4U4S5",
        "outputId": "ac3f82e1-83b9-46d5-fa58-b67e5910f757"
      },
      "execution_count": 10,
      "outputs": [
        {
          "output_type": "execute_result",
          "data": {
            "text/plain": [
              "'1'"
            ],
            "application/vnd.google.colaboratory.intrinsic+json": {
              "type": "string"
            }
          },
          "metadata": {},
          "execution_count": 10
        }
      ]
    },
    {
      "cell_type": "code",
      "source": [
        "# Get the Agent Name. Since the Agent is part of a list, need to use an index to extract the information.\n",
        "result_items[0]['Individual'][0]['Name']"
      ],
      "metadata": {
        "colab": {
          "base_uri": "https://localhost:8080/",
          "height": 37
        },
        "id": "2T49LyiyVCt7",
        "outputId": "4ae880f1-2138-4fb6-9ba6-f64afb8fd7d6"
      },
      "execution_count": 11,
      "outputs": [
        {
          "output_type": "execute_result",
          "data": {
            "text/plain": [
              "'René Duguay'"
            ],
            "application/vnd.google.colaboratory.intrinsic+json": {
              "type": "string"
            }
          },
          "metadata": {},
          "execution_count": 11
        }
      ]
    },
    {
      "cell_type": "code",
      "source": [
        "# Get the area code, using index 0 since there is a fax number as well\n",
        "result_items[0]['Individual'][0]['Phones'][0]['AreaCode']"
      ],
      "metadata": {
        "colab": {
          "base_uri": "https://localhost:8080/",
          "height": 37
        },
        "id": "kq0Z7saKVhPs",
        "outputId": "c6b2ce09-4d0f-4f6f-afb3-1b10769b5b2e"
      },
      "execution_count": 12,
      "outputs": [
        {
          "output_type": "execute_result",
          "data": {
            "text/plain": [
              "'819'"
            ],
            "application/vnd.google.colaboratory.intrinsic+json": {
              "type": "string"
            }
          },
          "metadata": {},
          "execution_count": 12
        }
      ]
    },
    {
      "cell_type": "code",
      "source": [
        "# Get the phone number\n",
        "result_items[0]['Individual'][0]['Phones'][0]['PhoneNumber']"
      ],
      "metadata": {
        "colab": {
          "base_uri": "https://localhost:8080/",
          "height": 37
        },
        "id": "BypPSUNbWBR3",
        "outputId": "a7433104-6b79-4209-def8-65cbd2fb8f76"
      },
      "execution_count": 13,
      "outputs": [
        {
          "output_type": "execute_result",
          "data": {
            "text/plain": [
              "'923-3724'"
            ],
            "application/vnd.google.colaboratory.intrinsic+json": {
              "type": "string"
            }
          },
          "metadata": {},
          "execution_count": 13
        }
      ]
    },
    {
      "cell_type": "code",
      "source": [
        "# extract price of property\n",
        "result_items[0]['Property']['Price']"
      ],
      "metadata": {
        "colab": {
          "base_uri": "https://localhost:8080/",
          "height": 37
        },
        "id": "_S9IZLCwWTIA",
        "outputId": "520512ca-b8b9-4ff9-c4eb-0258ea4ae5d6"
      },
      "execution_count": 14,
      "outputs": [
        {
          "output_type": "execute_result",
          "data": {
            "text/plain": [
              "'$399,000'"
            ],
            "application/vnd.google.colaboratory.intrinsic+json": {
              "type": "string"
            }
          },
          "metadata": {},
          "execution_count": 14
        }
      ]
    },
    {
      "cell_type": "markdown",
      "source": [
        "Step 7 - Put it all together and loop through results appending data inside a list"
      ],
      "metadata": {
        "id": "Sj6EhGySLPjO"
      }
    },
    {
      "cell_type": "code",
      "source": [
        "# Create empty lists, these are the data points I want to extract from the webpage\n",
        "address = []\n",
        "bedrooms = []\n",
        "bathrooms = []\n",
        "agent_name = []\n",
        "area_code = []\n",
        "phone_number = []\n",
        "price = []\n",
        "\n",
        "# iterate over each item on the page\n",
        "for result in result_items:\n",
        "\n",
        "    # address\n",
        "    try:\n",
        "        address.append(result['Property']['Address']['AddressText'])\n",
        "    except:\n",
        "        address.append('')\n",
        "\n",
        "    # bedrooms\n",
        "    try:\n",
        "        bedrooms.append(result['Building']['Bedrooms'])\n",
        "    except:\n",
        "        bedrooms.append('')\n",
        "\n",
        "    # bathrooms\n",
        "    try:\n",
        "        bathrooms.append(result['Building']['BathroomTotal'])\n",
        "    except:\n",
        "        bathrooms.append('')\n",
        "\n",
        "    # Agent Name\n",
        "    try:\n",
        "        agent_name.append(result['Individual'][0]['Name'])\n",
        "    except:\n",
        "        agent_name.append('')\n",
        "\n",
        "    # area code\n",
        "    try:\n",
        "        area_code.append(result['Individual'][0]['Phones'][0]['AreaCode'])\n",
        "    except:\n",
        "        area_code.append('')\n",
        "\n",
        "    # phone number\n",
        "    try:\n",
        "        phone_number.append(result['Individual'][0]['Phones'][0]['PhoneNumber'])\n",
        "    except:\n",
        "        phone_number.append('')\n",
        "\n",
        "    # price\n",
        "    try:\n",
        "        price.append(result['Property']['Price'])\n",
        "    except:\n",
        "        price.append('')"
      ],
      "metadata": {
        "id": "ke8aQqLyLUxj"
      },
      "execution_count": 36,
      "outputs": []
    },
    {
      "cell_type": "code",
      "source": [
        "# This will print out all 12 addresses from the search results\n",
        "address\n",
        "\n"
      ],
      "metadata": {
        "colab": {
          "base_uri": "https://localhost:8080/"
        },
        "id": "k5daYMwXLXv_",
        "outputId": "70bf564b-6643-4baf-f953-914b70d0fe2d"
      },
      "execution_count": 37,
      "outputs": [
        {
          "output_type": "execute_result",
          "data": {
            "text/plain": [
              "['220 Rue Nobert|Gatineau (Gatineau), Quebec J8R0C7',\n",
              " '1556 SENATEURS WAY|Orleans, Ontario K4A4A2',\n",
              " '251 MEILLEUR PRIVATE|Ottawa, Ontario K1L0A3',\n",
              " '6545 SILVER MAPLE LANE|Ottawa, Ontario K4P1E2',\n",
              " '78 SARAH STREET|Carleton Place, Ontario K7C2Z3',\n",
              " '201 REUBEN CRESCENT|Kemptville, Ontario K0G1J0',\n",
              " '717 MONTEE LEBRUN ROAD|Casselman, Ontario K0A1M0',\n",
              " '423 BARRICK HILL ROAD|Ottawa, Ontario K2M0H7',\n",
              " '1515 Ch. de Montréal O.|Gatineau (Masson-Angers), Quebec J8M1V9',\n",
              " '130 RAVENVIEW WAY|Kanata, Ontario K2W0E2',\n",
              " '510 AROSA WAY|Ottawa, Ontario K2S1B6',\n",
              " '278 BRANTHAVEN STREET|Ottawa, Ontario K4A0H8']"
            ]
          },
          "metadata": {},
          "execution_count": 37
        }
      ]
    },
    {
      "cell_type": "markdown",
      "source": [
        "Step 8 - Pandas Dataframe"
      ],
      "metadata": {
        "id": "saJldLSmLVLz"
      }
    },
    {
      "cell_type": "code",
      "source": [
        "# Take all the data from the for loop above and put it into a Pandas Dataframe, each list should return a column\n",
        "df_realtor = pd.DataFrame({'Address': address, 'Bedrooms': bedrooms, 'Bathrooms': bathrooms, 'Agent Name': agent_name, 'Area Code': area_code, 'Telephone': phone_number, 'Price': price})"
      ],
      "metadata": {
        "id": "4VQNGxoesu7s"
      },
      "execution_count": 38,
      "outputs": []
    },
    {
      "cell_type": "code",
      "source": [
        "# Display the data frame, will show all 12 addresses and related information for each listing on the page.\n",
        "df_realtor"
      ],
      "metadata": {
        "id": "CYvq9sTQthuW",
        "outputId": "163d29e8-1b53-4f13-ea2c-c28809857934",
        "colab": {
          "base_uri": "https://localhost:8080/",
          "height": 458
        }
      },
      "execution_count": 39,
      "outputs": [
        {
          "output_type": "execute_result",
          "data": {
            "text/plain": [
              "                                              Address Bedrooms Bathrooms  \\\n",
              "0   220 Rue Nobert|Gatineau (Gatineau), Quebec J8R0C7        3         1   \n",
              "1          1556 SENATEURS WAY|Orleans, Ontario K4A4A2    3 + 0         4   \n",
              "2         251 MEILLEUR PRIVATE|Ottawa, Ontario K1L0A3    3 + 0         4   \n",
              "3       6545 SILVER MAPLE LANE|Ottawa, Ontario K4P1E2    3 + 1         2   \n",
              "4      78 SARAH STREET|Carleton Place, Ontario K7C2Z3    2 + 0         1   \n",
              "5      201 REUBEN CRESCENT|Kemptville, Ontario K0G1J0    3 + 0         2   \n",
              "6    717 MONTEE LEBRUN ROAD|Casselman, Ontario K0A1M0    3 + 0         1   \n",
              "7        423 BARRICK HILL ROAD|Ottawa, Ontario K2M0H7    3 + 0         3   \n",
              "8   1515 Ch. de Montréal O.|Gatineau (Masson-Anger...        9         3   \n",
              "9            130 RAVENVIEW WAY|Kanata, Ontario K2W0E2    4 + 1         5   \n",
              "10               510 AROSA WAY|Ottawa, Ontario K2S1B6    3 + 0         3   \n",
              "11       278 BRANTHAVEN STREET|Ottawa, Ontario K4A0H8    3 + 0         3   \n",
              "\n",
              "           Agent Name Area Code Telephone       Price  \n",
              "0         René Duguay       819  923-3724    $399,000  \n",
              "1      Rami Bastawros       613  830-3350    $765,000  \n",
              "2   Rodney den Dunnen       613  720-0657    $699,900  \n",
              "3          Filmer Chu       613  262-6545    $830,000  \n",
              "4     Brandi McDonald       613  451-1999    $419,900  \n",
              "5        Penny Beavis       613  323-4118    $349,000  \n",
              "6   Anthony D'Onofrio                        $529,500  \n",
              "7      Kevin Saunders       613  299-7100    $689,900  \n",
              "8     Frédéric Durand       819  775-1972    $674,900  \n",
              "9       Nancy Ceresia       613  286-1658  $1,899,000  \n",
              "10              Bo Yu       613  698-9526    $899,900  \n",
              "11      Hoda Baselyos       613  204-5133    $649,900  "
            ],
            "text/html": [
              "\n",
              "  <div id=\"df-b44721fc-152e-4762-9320-754c51cde484\">\n",
              "    <div class=\"colab-df-container\">\n",
              "      <div>\n",
              "<style scoped>\n",
              "    .dataframe tbody tr th:only-of-type {\n",
              "        vertical-align: middle;\n",
              "    }\n",
              "\n",
              "    .dataframe tbody tr th {\n",
              "        vertical-align: top;\n",
              "    }\n",
              "\n",
              "    .dataframe thead th {\n",
              "        text-align: right;\n",
              "    }\n",
              "</style>\n",
              "<table border=\"1\" class=\"dataframe\">\n",
              "  <thead>\n",
              "    <tr style=\"text-align: right;\">\n",
              "      <th></th>\n",
              "      <th>Address</th>\n",
              "      <th>Bedrooms</th>\n",
              "      <th>Bathrooms</th>\n",
              "      <th>Agent Name</th>\n",
              "      <th>Area Code</th>\n",
              "      <th>Telephone</th>\n",
              "      <th>Price</th>\n",
              "    </tr>\n",
              "  </thead>\n",
              "  <tbody>\n",
              "    <tr>\n",
              "      <th>0</th>\n",
              "      <td>220 Rue Nobert|Gatineau (Gatineau), Quebec J8R0C7</td>\n",
              "      <td>3</td>\n",
              "      <td>1</td>\n",
              "      <td>René Duguay</td>\n",
              "      <td>819</td>\n",
              "      <td>923-3724</td>\n",
              "      <td>$399,000</td>\n",
              "    </tr>\n",
              "    <tr>\n",
              "      <th>1</th>\n",
              "      <td>1556 SENATEURS WAY|Orleans, Ontario K4A4A2</td>\n",
              "      <td>3 + 0</td>\n",
              "      <td>4</td>\n",
              "      <td>Rami Bastawros</td>\n",
              "      <td>613</td>\n",
              "      <td>830-3350</td>\n",
              "      <td>$765,000</td>\n",
              "    </tr>\n",
              "    <tr>\n",
              "      <th>2</th>\n",
              "      <td>251 MEILLEUR PRIVATE|Ottawa, Ontario K1L0A3</td>\n",
              "      <td>3 + 0</td>\n",
              "      <td>4</td>\n",
              "      <td>Rodney den Dunnen</td>\n",
              "      <td>613</td>\n",
              "      <td>720-0657</td>\n",
              "      <td>$699,900</td>\n",
              "    </tr>\n",
              "    <tr>\n",
              "      <th>3</th>\n",
              "      <td>6545 SILVER MAPLE LANE|Ottawa, Ontario K4P1E2</td>\n",
              "      <td>3 + 1</td>\n",
              "      <td>2</td>\n",
              "      <td>Filmer Chu</td>\n",
              "      <td>613</td>\n",
              "      <td>262-6545</td>\n",
              "      <td>$830,000</td>\n",
              "    </tr>\n",
              "    <tr>\n",
              "      <th>4</th>\n",
              "      <td>78 SARAH STREET|Carleton Place, Ontario K7C2Z3</td>\n",
              "      <td>2 + 0</td>\n",
              "      <td>1</td>\n",
              "      <td>Brandi McDonald</td>\n",
              "      <td>613</td>\n",
              "      <td>451-1999</td>\n",
              "      <td>$419,900</td>\n",
              "    </tr>\n",
              "    <tr>\n",
              "      <th>5</th>\n",
              "      <td>201 REUBEN CRESCENT|Kemptville, Ontario K0G1J0</td>\n",
              "      <td>3 + 0</td>\n",
              "      <td>2</td>\n",
              "      <td>Penny Beavis</td>\n",
              "      <td>613</td>\n",
              "      <td>323-4118</td>\n",
              "      <td>$349,000</td>\n",
              "    </tr>\n",
              "    <tr>\n",
              "      <th>6</th>\n",
              "      <td>717 MONTEE LEBRUN ROAD|Casselman, Ontario K0A1M0</td>\n",
              "      <td>3 + 0</td>\n",
              "      <td>1</td>\n",
              "      <td>Anthony D'Onofrio</td>\n",
              "      <td></td>\n",
              "      <td></td>\n",
              "      <td>$529,500</td>\n",
              "    </tr>\n",
              "    <tr>\n",
              "      <th>7</th>\n",
              "      <td>423 BARRICK HILL ROAD|Ottawa, Ontario K2M0H7</td>\n",
              "      <td>3 + 0</td>\n",
              "      <td>3</td>\n",
              "      <td>Kevin Saunders</td>\n",
              "      <td>613</td>\n",
              "      <td>299-7100</td>\n",
              "      <td>$689,900</td>\n",
              "    </tr>\n",
              "    <tr>\n",
              "      <th>8</th>\n",
              "      <td>1515 Ch. de Montréal O.|Gatineau (Masson-Anger...</td>\n",
              "      <td>9</td>\n",
              "      <td>3</td>\n",
              "      <td>Frédéric Durand</td>\n",
              "      <td>819</td>\n",
              "      <td>775-1972</td>\n",
              "      <td>$674,900</td>\n",
              "    </tr>\n",
              "    <tr>\n",
              "      <th>9</th>\n",
              "      <td>130 RAVENVIEW WAY|Kanata, Ontario K2W0E2</td>\n",
              "      <td>4 + 1</td>\n",
              "      <td>5</td>\n",
              "      <td>Nancy Ceresia</td>\n",
              "      <td>613</td>\n",
              "      <td>286-1658</td>\n",
              "      <td>$1,899,000</td>\n",
              "    </tr>\n",
              "    <tr>\n",
              "      <th>10</th>\n",
              "      <td>510 AROSA WAY|Ottawa, Ontario K2S1B6</td>\n",
              "      <td>3 + 0</td>\n",
              "      <td>3</td>\n",
              "      <td>Bo Yu</td>\n",
              "      <td>613</td>\n",
              "      <td>698-9526</td>\n",
              "      <td>$899,900</td>\n",
              "    </tr>\n",
              "    <tr>\n",
              "      <th>11</th>\n",
              "      <td>278 BRANTHAVEN STREET|Ottawa, Ontario K4A0H8</td>\n",
              "      <td>3 + 0</td>\n",
              "      <td>3</td>\n",
              "      <td>Hoda Baselyos</td>\n",
              "      <td>613</td>\n",
              "      <td>204-5133</td>\n",
              "      <td>$649,900</td>\n",
              "    </tr>\n",
              "  </tbody>\n",
              "</table>\n",
              "</div>\n",
              "      <button class=\"colab-df-convert\" onclick=\"convertToInteractive('df-b44721fc-152e-4762-9320-754c51cde484')\"\n",
              "              title=\"Convert this dataframe to an interactive table.\"\n",
              "              style=\"display:none;\">\n",
              "        \n",
              "  <svg xmlns=\"http://www.w3.org/2000/svg\" height=\"24px\"viewBox=\"0 0 24 24\"\n",
              "       width=\"24px\">\n",
              "    <path d=\"M0 0h24v24H0V0z\" fill=\"none\"/>\n",
              "    <path d=\"M18.56 5.44l.94 2.06.94-2.06 2.06-.94-2.06-.94-.94-2.06-.94 2.06-2.06.94zm-11 1L8.5 8.5l.94-2.06 2.06-.94-2.06-.94L8.5 2.5l-.94 2.06-2.06.94zm10 10l.94 2.06.94-2.06 2.06-.94-2.06-.94-.94-2.06-.94 2.06-2.06.94z\"/><path d=\"M17.41 7.96l-1.37-1.37c-.4-.4-.92-.59-1.43-.59-.52 0-1.04.2-1.43.59L10.3 9.45l-7.72 7.72c-.78.78-.78 2.05 0 2.83L4 21.41c.39.39.9.59 1.41.59.51 0 1.02-.2 1.41-.59l7.78-7.78 2.81-2.81c.8-.78.8-2.07 0-2.86zM5.41 20L4 18.59l7.72-7.72 1.47 1.35L5.41 20z\"/>\n",
              "  </svg>\n",
              "      </button>\n",
              "      \n",
              "  <style>\n",
              "    .colab-df-container {\n",
              "      display:flex;\n",
              "      flex-wrap:wrap;\n",
              "      gap: 12px;\n",
              "    }\n",
              "\n",
              "    .colab-df-convert {\n",
              "      background-color: #E8F0FE;\n",
              "      border: none;\n",
              "      border-radius: 50%;\n",
              "      cursor: pointer;\n",
              "      display: none;\n",
              "      fill: #1967D2;\n",
              "      height: 32px;\n",
              "      padding: 0 0 0 0;\n",
              "      width: 32px;\n",
              "    }\n",
              "\n",
              "    .colab-df-convert:hover {\n",
              "      background-color: #E2EBFA;\n",
              "      box-shadow: 0px 1px 2px rgba(60, 64, 67, 0.3), 0px 1px 3px 1px rgba(60, 64, 67, 0.15);\n",
              "      fill: #174EA6;\n",
              "    }\n",
              "\n",
              "    [theme=dark] .colab-df-convert {\n",
              "      background-color: #3B4455;\n",
              "      fill: #D2E3FC;\n",
              "    }\n",
              "\n",
              "    [theme=dark] .colab-df-convert:hover {\n",
              "      background-color: #434B5C;\n",
              "      box-shadow: 0px 1px 3px 1px rgba(0, 0, 0, 0.15);\n",
              "      filter: drop-shadow(0px 1px 2px rgba(0, 0, 0, 0.3));\n",
              "      fill: #FFFFFF;\n",
              "    }\n",
              "  </style>\n",
              "\n",
              "      <script>\n",
              "        const buttonEl =\n",
              "          document.querySelector('#df-b44721fc-152e-4762-9320-754c51cde484 button.colab-df-convert');\n",
              "        buttonEl.style.display =\n",
              "          google.colab.kernel.accessAllowed ? 'block' : 'none';\n",
              "\n",
              "        async function convertToInteractive(key) {\n",
              "          const element = document.querySelector('#df-b44721fc-152e-4762-9320-754c51cde484');\n",
              "          const dataTable =\n",
              "            await google.colab.kernel.invokeFunction('convertToInteractive',\n",
              "                                                     [key], {});\n",
              "          if (!dataTable) return;\n",
              "\n",
              "          const docLinkHtml = 'Like what you see? Visit the ' +\n",
              "            '<a target=\"_blank\" href=https://colab.research.google.com/notebooks/data_table.ipynb>data table notebook</a>'\n",
              "            + ' to learn more about interactive tables.';\n",
              "          element.innerHTML = '';\n",
              "          dataTable['output_type'] = 'display_data';\n",
              "          await google.colab.output.renderOutput(dataTable, element);\n",
              "          const docLink = document.createElement('div');\n",
              "          docLink.innerHTML = docLinkHtml;\n",
              "          element.appendChild(docLink);\n",
              "        }\n",
              "      </script>\n",
              "    </div>\n",
              "  </div>\n",
              "  "
            ]
          },
          "metadata": {},
          "execution_count": 39
        }
      ]
    },
    {
      "cell_type": "markdown",
      "source": [
        "Step 9 - Multiple Pages"
      ],
      "metadata": {
        "id": "yerjqAQoLagA"
      }
    }
  ]
}