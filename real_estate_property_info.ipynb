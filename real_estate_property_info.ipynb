{
  "nbformat": 4,
  "nbformat_minor": 0,
  "metadata": {
    "colab": {
      "name": "stock_price_prediction_app.ipynb",
      "provenance": [],
      "authorship_tag": "ABX9TyNOkD8FBOQxUdQEg3Sn6MmM",
      "include_colab_link": true
    },
    "kernelspec": {
      "name": "python3",
      "display_name": "Python 3"
    },
    "language_info": {
      "name": "python"
    }
  },
  "cells": [
    {
      "cell_type": "markdown",
      "metadata": {
        "id": "view-in-github",
        "colab_type": "text"
      },
      "source": [
        "<a href=\"https://colab.research.google.com/github/bryanwills/python_codelou/blob/main/real_estate_property_info.ipynb\" target=\"_parent\"><img src=\"https://colab.research.google.com/assets/colab-badge.svg\" alt=\"Open In Colab\"/></a>"
      ]
    },
    {
      "cell_type": "markdown",
      "source": [
        "Step 1 - Imports"
      ],
      "metadata": {
        "id": "aQYsRd0fKqDk"
      }
    },
    {
      "cell_type": "code",
      "execution_count": 1,
      "metadata": {
        "id": "6ZH6P5OZIgOx",
        "outputId": "20544a68-74b4-4772-e412-c25e71ac7557",
        "colab": {
          "base_uri": "https://localhost:8080/"
        }
      },
      "outputs": [
        {
          "output_type": "stream",
          "name": "stdout",
          "text": [
            "Looking in indexes: https://pypi.org/simple, https://us-python.pkg.dev/colab-wheels/public/simple/\n",
            "Requirement already satisfied: requests in /usr/local/lib/python3.7/dist-packages (2.23.0)\n",
            "Requirement already satisfied: idna<3,>=2.5 in /usr/local/lib/python3.7/dist-packages (from requests) (2.10)\n",
            "Requirement already satisfied: chardet<4,>=3.0.2 in /usr/local/lib/python3.7/dist-packages (from requests) (3.0.4)\n",
            "Requirement already satisfied: certifi>=2017.4.17 in /usr/local/lib/python3.7/dist-packages (from requests) (2022.6.15)\n",
            "Requirement already satisfied: urllib3!=1.25.0,!=1.25.1,<1.26,>=1.21.1 in /usr/local/lib/python3.7/dist-packages (from requests) (1.24.3)\n",
            "Looking in indexes: https://pypi.org/simple, https://us-python.pkg.dev/colab-wheels/public/simple/\n",
            "Requirement already satisfied: pandas in /usr/local/lib/python3.7/dist-packages (1.3.5)\n",
            "Requirement already satisfied: numpy>=1.17.3 in /usr/local/lib/python3.7/dist-packages (from pandas) (1.21.6)\n",
            "Requirement already satisfied: pytz>=2017.3 in /usr/local/lib/python3.7/dist-packages (from pandas) (2022.1)\n",
            "Requirement already satisfied: python-dateutil>=2.7.3 in /usr/local/lib/python3.7/dist-packages (from pandas) (2.8.2)\n",
            "Requirement already satisfied: six>=1.5 in /usr/local/lib/python3.7/dist-packages (from python-dateutil>=2.7.3->pandas) (1.15.0)\n",
            "Looking in indexes: https://pypi.org/simple, https://us-python.pkg.dev/colab-wheels/public/simple/\n",
            "Requirement already satisfied: openpyxl in /usr/local/lib/python3.7/dist-packages (3.0.10)\n",
            "Requirement already satisfied: et-xmlfile in /usr/local/lib/python3.7/dist-packages (from openpyxl) (1.1.0)\n",
            "Looking in indexes: https://pypi.org/simple, https://us-python.pkg.dev/colab-wheels/public/simple/\n",
            "Requirement already satisfied: sqlalchemy in /usr/local/lib/python3.7/dist-packages (1.4.39)\n",
            "Requirement already satisfied: greenlet!=0.4.17 in /usr/local/lib/python3.7/dist-packages (from sqlalchemy) (1.1.2)\n",
            "Requirement already satisfied: importlib-metadata in /usr/local/lib/python3.7/dist-packages (from sqlalchemy) (4.12.0)\n",
            "Requirement already satisfied: zipp>=0.5 in /usr/local/lib/python3.7/dist-packages (from importlib-metadata->sqlalchemy) (3.8.1)\n",
            "Requirement already satisfied: typing-extensions>=3.6.4 in /usr/local/lib/python3.7/dist-packages (from importlib-metadata->sqlalchemy) (4.1.1)\n",
            "Looking in indexes: https://pypi.org/simple, https://us-python.pkg.dev/colab-wheels/public/simple/\n",
            "Collecting psycopg2-binary\n",
            "  Downloading psycopg2_binary-2.9.3-cp37-cp37m-manylinux_2_17_x86_64.manylinux2014_x86_64.whl (3.0 MB)\n",
            "\u001b[K     |████████████████████████████████| 3.0 MB 4.1 MB/s \n",
            "\u001b[?25hInstalling collected packages: psycopg2-binary\n",
            "Successfully installed psycopg2-binary-2.9.3\n"
          ]
        }
      ],
      "source": [
        "!pip install requests\n",
        "!pip install pandas\n",
        "!pip install openpyxl\n",
        "!pip install sqlalchemy\n",
        "!pip install psycopg2-binary\n",
        "import requests\n",
        "import pandas as pd\n",
        "import sqlalchemy\n",
        "import openpyxl\n",
        "import psycopg2\n",
        "import datetime"
      ]
    },
    {
      "cell_type": "markdown",
      "source": [
        "Go to realtor.ca site, enter in a search. My example: \"Ottawa, ON\".\n",
        "After making this search, open up DevTools, click on Network and go through the files and locate the query in the form of a curl command. Convert the curl command to a Python request and paste the output below in Step 2. I just Googled curl to python converter.\n",
        "\n",
        "This site was chosen due to the fact that I can pull out their API from dev tools without having to sign up for an API."
      ],
      "metadata": {
        "id": "Upavv1R4Ns8c"
      }
    },
    {
      "cell_type": "markdown",
      "source": [
        "Step 2 - Requests & URL\n"
      ],
      "metadata": {
        "id": "3rCPxzm_KvBv"
      }
    },
    {
      "cell_type": "code",
      "source": [
        "headers = {\n",
        "    'authority': 'api2.realtor.ca',\n",
        "    'accept': '*/*',\n",
        "    'accept-language': 'en-US,en;q=0.9,cs;q=0.8',\n",
        "    'content-type': 'application/x-www-form-urlencoded; charset=UTF-8',\n",
        "    'cookie': 'visid_incap_2269415=DRpcY4I3SjKFMfalMxSftyaK6WIAAAAAQUIPAAAAAACvrLYGe+e3wDZmQZfgEaBA; nlbi_2269415=B6YSQ7YtUCMAjnPWn2FYxQAAAACYHLiQKXa5Yo8sEYT9lH/D; incap_ses_1291_2269415=SdugIV1PHwRJVXABPo7qESaK6WIAAAAA8vWAvOTCm3r54LL1BaCVtA==; incap_ses_116_2269415=FM63c0UCPQHIXBz0Kh6cASeK6WIAAAAA9WPFdt5xRRbegjs061rpqw==; reese84=3:W3xEMitJn4FeyQaF2XIXWQ==:p7Gd6DFbHB7lgs8ZiewNBgGqjQLo3wb7ZgLM5HEqdiD5sN4Mr44u810tBQhqV2vjU2U1jZhk1XUUaxH3SE6rRKOZt2IsJBaY91rEmL/BfA9TmyLmjn+zJzFmdGtmAiChQgjCUv8dENZu7G/vy9dAv2VS2qzg0HdfHvG9N6GpzCGi9tItYSFdAC8W6Hf1v7ru/vUdI9Gswb/t3vvtWsVgd0VwG0/MuhT3PJHUsJuK826Fry8SmmvyvBkYGWDIE/+2lgErv/802OoFzhg3SoNuJAU5wWhb00pBiZGi02wn5GRKByp4s/E2VoVX6arUlcELR5JUvMfIAehQsgzhbw4HOSKf5nJaZYKSYpYhSV/lyUoqp54LPEcLOcJiPaisJj2GJPoKHsQqa2LX7yNuFJCgwYL/h/luyeyPr/f5IKQnqGA=:/enhsFfOjcbixgt8+8usYgkzfKJI11l1g99of43Onuc=; gig_bootstrap_3_mrQiIl6ov44s2X3j6NGWVZ9SDDtplqV7WgdcyEpGYnYxl7ygDWPQHqQqtpSiUfko=gigya-pr_ver4; ASP.NET_SessionId=4je5mml0zgqlvsnfaxs3egfb; visid_incap_2271082=B8sI/rNOS1O+7SuN27HKhkmK6WIAAAAAQUIPAAAAAADhnJ+CcKEEfvlCTsuuOLuJ; nlbi_2271082=shHQdkaMZgmv7s1ENo2IPAAAAAD0GfZzBej4n1ca1rAudqyl; incap_ses_116_2271082=fbUKUHhRXEGMgxz0Kh6cAUmK6WIAAAAAlXQi/sn9Rh1WHoAG/5A3fg==; nlbi_2269415_2147483392=u6DgadTQhS/ycA2tn2FYxQAAAABhO27gJcvY6w7tSWqOqotq',\n",
        "    'dnt': '1',\n",
        "    'origin': 'https://www.realtor.ca',\n",
        "    'referer': 'https://www.realtor.ca/',\n",
        "    'sec-ch-ua': '^\\\\^.Not/A)Brand^\\\\^;v=^\\\\^99^\\\\^, ^\\\\^Google',\n",
        "    'sec-ch-ua-mobile': '?0',\n",
        "    'sec-ch-ua-platform': '^\\\\^Windows^\\\\^',\n",
        "    'sec-fetch-dest': 'empty',\n",
        "    'sec-fetch-mode': 'cors',\n",
        "    'sec-fetch-site': 'same-site',\n",
        "    'user-agent': 'Mozilla/5.0 (Windows NT 10.0; Win64; x64) AppleWebKit/537.36 (KHTML, like Gecko) Chrome/103.0.0.0 Safari/537.36',\n",
        "}\n",
        "\n",
        "data = {\n",
        "  'ZoomLevel': '10',\n",
        "  'LatitudeMax': '45.61508',\n",
        "  'LongitudeMax': '-75.15382',\n",
        "  'LatitudeMin': '44.88320',\n",
        "  'LongitudeMin': '-76.44608',\n",
        "  'Sort': '6-D',\n",
        "  'PropertyTypeGroupID': '1',\n",
        "  'PropertySearchTypeId': '1',\n",
        "  'TransactionTypeId': '2',\n",
        "  'Currency': 'FXUSDCAD',\n",
        "  'RecordsPerPage': '12',\n",
        "  'ApplicationId': '1',\n",
        "  'CultureId': '1',\n",
        "  'Version': '7.0',\n",
        "  'CurrentPage': '1'\n",
        "}\n",
        "\n",
        "response = requests.post('https://api2.realtor.ca/Listing.svc/PropertySearch_Post', headers=headers, data=data)\n"
      ],
      "metadata": {
        "id": "PCM2vtEhKz7e"
      },
      "execution_count": 2,
      "outputs": []
    },
    {
      "cell_type": "markdown",
      "source": [
        "Step 3 - Check Status Code"
      ],
      "metadata": {
        "id": "nyxVj_T1K0_h"
      }
    },
    {
      "cell_type": "code",
      "source": [
        "response"
      ],
      "metadata": {
        "colab": {
          "base_uri": "https://localhost:8080/"
        },
        "id": "7_EYJtvxK31v",
        "outputId": "702a3352-a791-4c5a-b51f-c10b6e160ef1"
      },
      "execution_count": 3,
      "outputs": [
        {
          "output_type": "execute_result",
          "data": {
            "text/plain": [
              "<Response [200]>"
            ]
          },
          "metadata": {},
          "execution_count": 3
        }
      ]
    },
    {
      "cell_type": "markdown",
      "source": [
        "Running this cell gets back a Response [200] indicating that the response from the request ran without problem."
      ],
      "metadata": {
        "id": "W9QnAI9_OZfK"
      }
    },
    {
      "cell_type": "markdown",
      "source": [
        "Step 4 - Create JSON Object"
      ],
      "metadata": {
        "id": "ENWd--t1K4R-"
      }
    },
    {
      "cell_type": "code",
      "source": [
        "result_json = response.json()"
      ],
      "metadata": {
        "id": "iMxyWniJK6n_"
      },
      "execution_count": 4,
      "outputs": []
    },
    {
      "cell_type": "markdown",
      "source": [
        "After running the above code cell, the data that comes back is the information we are looking for in json format."
      ],
      "metadata": {
        "id": "PnSQ8kXGRqI1"
      }
    },
    {
      "cell_type": "markdown",
      "source": [
        "Step 5 - Output Keys\n"
      ],
      "metadata": {
        "id": "WmTpIzkzK7AW"
      }
    },
    {
      "cell_type": "code",
      "source": [
        "result_json.keys()"
      ],
      "metadata": {
        "colab": {
          "base_uri": "https://localhost:8080/"
        },
        "id": "Ru4GYV-kK9Du",
        "outputId": "e3642a85-5065-4a88-ca77-51b0cb9a7258"
      },
      "execution_count": 5,
      "outputs": [
        {
          "output_type": "execute_result",
          "data": {
            "text/plain": [
              "dict_keys(['ErrorCode', 'Paging', 'Results', 'Pins', 'GroupingLevel'])"
            ]
          },
          "metadata": {},
          "execution_count": 5
        }
      ]
    },
    {
      "cell_type": "markdown",
      "source": [
        "Storing keys from webpage (dev tools). This will allow me to extract specific data later on. Specifically, looking at the 'results' key which contains all the information I want and need."
      ],
      "metadata": {
        "id": "H3UsY4aIR-KK"
      }
    },
    {
      "cell_type": "markdown",
      "source": [
        "Step 6 - Find Data\n",
        "\n",
        "\n",
        "1.   Address\n",
        "2.   Bedrooms\n",
        "3.   Bathrooms\n",
        "4.   Agent Name\n",
        "5.   Area Code\n",
        "6.   Phone Number\n",
        "7.   Price\n",
        "\n",
        "\n"
      ],
      "metadata": {
        "id": "X0vlKYf4K9xM"
      }
    },
    {
      "cell_type": "code",
      "source": [
        "# Starting point\n",
        "result_items = result_json['Results']"
      ],
      "metadata": {
        "id": "Lk6G2cQ9LOvx"
      },
      "execution_count": 6,
      "outputs": []
    },
    {
      "cell_type": "code",
      "source": [
        "len(result_items)"
      ],
      "metadata": {
        "colab": {
          "base_uri": "https://localhost:8080/"
        },
        "id": "xiZEnQxITD-i",
        "outputId": "f184d5cb-b7ac-4e2f-9488-271e0f32d4eb"
      },
      "execution_count": 7,
      "outputs": [
        {
          "output_type": "execute_result",
          "data": {
            "text/plain": [
              "12"
            ]
          },
          "metadata": {},
          "execution_count": 7
        }
      ]
    },
    {
      "cell_type": "markdown",
      "source": [
        "Running the above code allows me to see the information from the results dictionary key. If I were to put len(result_json['Results']), I would get back '12' which is the same amount of search results from the website or after storing the results into a variable, I can check the length by the above code. For now, I am going to store that data in result_items variable."
      ],
      "metadata": {
        "id": "nvkaoVNzSf2Z"
      }
    },
    {
      "cell_type": "code",
      "source": [
        "# address of first result using the index of '0'\n",
        "result_items[0]['Property']['Address']['AddressText']\n",
        "# targeting the 'Property' key to get the address since it is within the property key.\n",
        "# Going further to get the specific data I am looking for, I keep going down the 'keys' until I have just the street address I need.\n"
      ],
      "metadata": {
        "colab": {
          "base_uri": "https://localhost:8080/",
          "height": 42
        },
        "id": "rB8CaQsXLOyW",
        "outputId": "e61e5271-adb5-49a4-9fb6-386db8163dcb"
      },
      "execution_count": 8,
      "outputs": [
        {
          "output_type": "execute_result",
          "data": {
            "text/plain": [
              "'1556 OLD PRESCOTT ROAD|Greely, Ontario K4P1B8'"
            ],
            "application/vnd.google.colaboratory.intrinsic+json": {
              "type": "string"
            }
          },
          "metadata": {},
          "execution_count": 8
        }
      ]
    },
    {
      "cell_type": "code",
      "source": [
        "# Get bedroom information \n",
        "result_items[0]['Building']['Bedrooms']"
      ],
      "metadata": {
        "colab": {
          "base_uri": "https://localhost:8080/",
          "height": 42
        },
        "id": "nslcYak9ULyZ",
        "outputId": "cb50723c-47b7-4d18-dc2f-b31349325642"
      },
      "execution_count": 9,
      "outputs": [
        {
          "output_type": "execute_result",
          "data": {
            "text/plain": [
              "'2 + 2'"
            ],
            "application/vnd.google.colaboratory.intrinsic+json": {
              "type": "string"
            }
          },
          "metadata": {},
          "execution_count": 9
        }
      ]
    },
    {
      "cell_type": "code",
      "source": [
        "# Get bathrooms information\n",
        "result_items[0]['Building']['BathroomTotal']"
      ],
      "metadata": {
        "colab": {
          "base_uri": "https://localhost:8080/",
          "height": 42
        },
        "id": "nIj8X7V4U4S5",
        "outputId": "3600ec15-8990-4393-da54-ec6923ddb1d3"
      },
      "execution_count": 10,
      "outputs": [
        {
          "output_type": "execute_result",
          "data": {
            "text/plain": [
              "'3'"
            ],
            "application/vnd.google.colaboratory.intrinsic+json": {
              "type": "string"
            }
          },
          "metadata": {},
          "execution_count": 10
        }
      ]
    },
    {
      "cell_type": "code",
      "source": [
        "# Get the Agent Name. Since the Agent is part of a list, need to use an index to extract the information.\n",
        "result_items[0]['Individual'][0]['Name']"
      ],
      "metadata": {
        "colab": {
          "base_uri": "https://localhost:8080/",
          "height": 42
        },
        "id": "2T49LyiyVCt7",
        "outputId": "b526b76f-26e8-45e1-85ff-b25a554e1207"
      },
      "execution_count": 11,
      "outputs": [
        {
          "output_type": "execute_result",
          "data": {
            "text/plain": [
              "'Ellen Hughes'"
            ],
            "application/vnd.google.colaboratory.intrinsic+json": {
              "type": "string"
            }
          },
          "metadata": {},
          "execution_count": 11
        }
      ]
    },
    {
      "cell_type": "code",
      "source": [
        "# Get the area code, using index 0 since there is a fax number as well\n",
        "result_items[0]['Individual'][0]['Phones'][0]['AreaCode']"
      ],
      "metadata": {
        "colab": {
          "base_uri": "https://localhost:8080/",
          "height": 42
        },
        "id": "kq0Z7saKVhPs",
        "outputId": "81ffc316-9bff-4bb4-e318-f524e6f1aed7"
      },
      "execution_count": 12,
      "outputs": [
        {
          "output_type": "execute_result",
          "data": {
            "text/plain": [
              "'613'"
            ],
            "application/vnd.google.colaboratory.intrinsic+json": {
              "type": "string"
            }
          },
          "metadata": {},
          "execution_count": 12
        }
      ]
    },
    {
      "cell_type": "code",
      "source": [
        "# Get the phone number\n",
        "result_items[0]['Individual'][0]['Phones'][0]['PhoneNumber']"
      ],
      "metadata": {
        "colab": {
          "base_uri": "https://localhost:8080/",
          "height": 42
        },
        "id": "BypPSUNbWBR3",
        "outputId": "c94776b2-fc02-4fda-c07e-73b913a2d457"
      },
      "execution_count": 13,
      "outputs": [
        {
          "output_type": "execute_result",
          "data": {
            "text/plain": [
              "'858-8640'"
            ],
            "application/vnd.google.colaboratory.intrinsic+json": {
              "type": "string"
            }
          },
          "metadata": {},
          "execution_count": 13
        }
      ]
    },
    {
      "cell_type": "code",
      "source": [
        "# extract price of property\n",
        "result_items[0]['Property']['Price']"
      ],
      "metadata": {
        "colab": {
          "base_uri": "https://localhost:8080/",
          "height": 42
        },
        "id": "_S9IZLCwWTIA",
        "outputId": "e09a23e7-d48a-4826-f2ae-7a7ea5e80709"
      },
      "execution_count": 14,
      "outputs": [
        {
          "output_type": "execute_result",
          "data": {
            "text/plain": [
              "'$659,000'"
            ],
            "application/vnd.google.colaboratory.intrinsic+json": {
              "type": "string"
            }
          },
          "metadata": {},
          "execution_count": 14
        }
      ]
    },
    {
      "cell_type": "markdown",
      "source": [
        "Step 7 - Put it all together and loop through results appending data inside a list"
      ],
      "metadata": {
        "id": "Sj6EhGySLPjO"
      }
    },
    {
      "cell_type": "code",
      "source": [
        "# Create empty lists, these are the data points I want to extract from the webpage\n",
        "address = []\n",
        "bedrooms = []\n",
        "bathrooms = []\n",
        "agent_name = []\n",
        "area_code = []\n",
        "phone_number = []\n",
        "price = []\n",
        "\n",
        "# iterate over each item on the page\n",
        "for result in result_items:\n",
        "\n",
        "    # address\n",
        "    try:\n",
        "        address.append(result['Property']['Address']['AddressText'])\n",
        "    except:\n",
        "        address.append('')\n",
        "\n",
        "    # bedrooms\n",
        "    try:\n",
        "        bedrooms.append(result['Building']['Bedrooms'])\n",
        "    except:\n",
        "        bedrooms.append('')\n",
        "\n",
        "    # bathrooms\n",
        "    try:\n",
        "        bathrooms.append(result['Building']['BathroomTotal'])\n",
        "    except:\n",
        "        bathrooms.append('')\n",
        "\n",
        "    # Agent Name\n",
        "    try:\n",
        "        agent_name.append(result['Individual'][0]['Name'])\n",
        "    except:\n",
        "        agent_name.append('')\n",
        "\n",
        "    # area code\n",
        "    try:\n",
        "        area_code.append(result['Individual'][0]['Phones'][0]['AreaCode'])\n",
        "    except:\n",
        "        area_code.append('')\n",
        "\n",
        "    # phone number\n",
        "    try:\n",
        "        phone_number.append(result['Individual'][0]['Phones'][0]['PhoneNumber'])\n",
        "    except:\n",
        "        phone_number.append('')\n",
        "\n",
        "    # price\n",
        "    try:\n",
        "        price.append(result['Property']['Price'])\n",
        "    except:\n",
        "        price.append('')"
      ],
      "metadata": {
        "id": "ke8aQqLyLUxj"
      },
      "execution_count": 15,
      "outputs": []
    },
    {
      "cell_type": "code",
      "source": [
        "# This will print out all 12 addresses from the search results\n",
        "address\n",
        "\n"
      ],
      "metadata": {
        "colab": {
          "base_uri": "https://localhost:8080/"
        },
        "id": "k5daYMwXLXv_",
        "outputId": "fcb5af35-1717-4aea-c185-8723c4b6543d"
      },
      "execution_count": 16,
      "outputs": [
        {
          "output_type": "execute_result",
          "data": {
            "text/plain": [
              "['1556 OLD PRESCOTT ROAD|Greely, Ontario K4P1B8',\n",
              " '418 COOKS MILL CRESCENT|Ottawa, Ontario K1V2M9',\n",
              " '206 PARKIN CIRCLE|Gloucester, Ontario K1T4G4',\n",
              " '336 Rue de Pointe-Gatineau|Gatineau (Gatineau), Quebec J8T2C1',\n",
              " '160 GEORGE STREET UNIT#703|Ottawa, Ontario K1N9M2',\n",
              " '215 MABEL STREET|Limoges, Ontario K0A2M0',\n",
              " '27 WARREN AVENUE|Ottawa, Ontario K1Y0R9',\n",
              " '187 PATTERSON AVENUE|Ottawa, Ontario K1S1Y4',\n",
              " '75 ANDERSON STREET|Ottawa, Ontario K1R6T6',\n",
              " '85 Rue de Rouville|#24|Gatineau (Gatineau), Quebec J8T8M7',\n",
              " '399 Rue Jeannine-Grégoire-Ross|Gatineau (Gatineau), Quebec J8P0C5',\n",
              " '132 CONSTANCE CREEK DRIVE|Ottawa, Ontario K0A1T0']"
            ]
          },
          "metadata": {},
          "execution_count": 16
        }
      ]
    },
    {
      "cell_type": "markdown",
      "source": [
        "Step 8 - Pandas Dataframe"
      ],
      "metadata": {
        "id": "saJldLSmLVLz"
      }
    },
    {
      "cell_type": "code",
      "source": [
        "# Take all the data from the for loop above and put it into a Pandas Dataframe, each list should return a column\n",
        "df_realtor = pd.DataFrame({'Address': address, 'Bedrooms': bedrooms, 'Bathrooms': bathrooms, 'Agent Name': agent_name, 'Area Code': area_code, 'Telephone': phone_number, 'Price': price})"
      ],
      "metadata": {
        "id": "4VQNGxoesu7s"
      },
      "execution_count": 17,
      "outputs": []
    },
    {
      "cell_type": "code",
      "source": [
        "# Display the data frame, will show all 12 addresses and related information for each listing on the page.\n",
        "df_realtor"
      ],
      "metadata": {
        "id": "CYvq9sTQthuW",
        "outputId": "552e0130-6984-4d77-884c-8f312e1068c7",
        "colab": {
          "base_uri": "https://localhost:8080/",
          "height": 522
        }
      },
      "execution_count": 18,
      "outputs": [
        {
          "output_type": "execute_result",
          "data": {
            "text/plain": [
              "                                              Address Bedrooms Bathrooms  \\\n",
              "0       1556 OLD PRESCOTT ROAD|Greely, Ontario K4P1B8    2 + 2         3   \n",
              "1      418 COOKS MILL CRESCENT|Ottawa, Ontario K1V2M9    3 + 0         3   \n",
              "2        206 PARKIN CIRCLE|Gloucester, Ontario K1T4G4    3 + 0         3   \n",
              "3   336 Rue de Pointe-Gatineau|Gatineau (Gatineau)...        2         1   \n",
              "4   160 GEORGE STREET UNIT#703|Ottawa, Ontario K1N9M2    2 + 0         2   \n",
              "5            215 MABEL STREET|Limoges, Ontario K0A2M0    3 + 0         3   \n",
              "6             27 WARREN AVENUE|Ottawa, Ontario K1Y0R9    3 + 0         2   \n",
              "7         187 PATTERSON AVENUE|Ottawa, Ontario K1S1Y4    5 + 0         3   \n",
              "8           75 ANDERSON STREET|Ottawa, Ontario K1R6T6    3 + 0         1   \n",
              "9   85 Rue de Rouville|#24|Gatineau (Gatineau), Qu...        2         1   \n",
              "10  399 Rue Jeannine-Grégoire-Ross|Gatineau (Gatin...        4         2   \n",
              "11   132 CONSTANCE CREEK DRIVE|Ottawa, Ontario K0A1T0    4 + 1         5   \n",
              "\n",
              "             Agent Name Area Code Telephone       Price  \n",
              "0          Ellen Hughes       613  858-8640    $659,000  \n",
              "1        David O'Reilly       613  797-9673    $729,000  \n",
              "2        Marnie Bennett       613  233-8606    $654,900  \n",
              "3        Lucie Dussault       819  328-3211    $417,000  \n",
              "4       Dionne Caldwell       613  744-5525    $579,000  \n",
              "5      Cedrick Gauthier       613  707-5146    $599,900  \n",
              "6            Phil Labbe       613  316-3707  $1,210,000  \n",
              "7          Julie Teskey       613  859-6599  $1,549,000  \n",
              "8        Frank Di Tiero       613  301-5794    $649,900  \n",
              "9    Yannick Arseneault       819  360-6967    $399,900  \n",
              "10   Yannick Arseneault       819  360-6967    $499,000  \n",
              "11  Christine Hauschild       613  799-5570  $1,668,000  "
            ],
            "text/html": [
              "\n",
              "  <div id=\"df-2884876d-9e99-4301-9c13-88880bf6071e\">\n",
              "    <div class=\"colab-df-container\">\n",
              "      <div>\n",
              "<style scoped>\n",
              "    .dataframe tbody tr th:only-of-type {\n",
              "        vertical-align: middle;\n",
              "    }\n",
              "\n",
              "    .dataframe tbody tr th {\n",
              "        vertical-align: top;\n",
              "    }\n",
              "\n",
              "    .dataframe thead th {\n",
              "        text-align: right;\n",
              "    }\n",
              "</style>\n",
              "<table border=\"1\" class=\"dataframe\">\n",
              "  <thead>\n",
              "    <tr style=\"text-align: right;\">\n",
              "      <th></th>\n",
              "      <th>Address</th>\n",
              "      <th>Bedrooms</th>\n",
              "      <th>Bathrooms</th>\n",
              "      <th>Agent Name</th>\n",
              "      <th>Area Code</th>\n",
              "      <th>Telephone</th>\n",
              "      <th>Price</th>\n",
              "    </tr>\n",
              "  </thead>\n",
              "  <tbody>\n",
              "    <tr>\n",
              "      <th>0</th>\n",
              "      <td>1556 OLD PRESCOTT ROAD|Greely, Ontario K4P1B8</td>\n",
              "      <td>2 + 2</td>\n",
              "      <td>3</td>\n",
              "      <td>Ellen Hughes</td>\n",
              "      <td>613</td>\n",
              "      <td>858-8640</td>\n",
              "      <td>$659,000</td>\n",
              "    </tr>\n",
              "    <tr>\n",
              "      <th>1</th>\n",
              "      <td>418 COOKS MILL CRESCENT|Ottawa, Ontario K1V2M9</td>\n",
              "      <td>3 + 0</td>\n",
              "      <td>3</td>\n",
              "      <td>David O'Reilly</td>\n",
              "      <td>613</td>\n",
              "      <td>797-9673</td>\n",
              "      <td>$729,000</td>\n",
              "    </tr>\n",
              "    <tr>\n",
              "      <th>2</th>\n",
              "      <td>206 PARKIN CIRCLE|Gloucester, Ontario K1T4G4</td>\n",
              "      <td>3 + 0</td>\n",
              "      <td>3</td>\n",
              "      <td>Marnie Bennett</td>\n",
              "      <td>613</td>\n",
              "      <td>233-8606</td>\n",
              "      <td>$654,900</td>\n",
              "    </tr>\n",
              "    <tr>\n",
              "      <th>3</th>\n",
              "      <td>336 Rue de Pointe-Gatineau|Gatineau (Gatineau)...</td>\n",
              "      <td>2</td>\n",
              "      <td>1</td>\n",
              "      <td>Lucie Dussault</td>\n",
              "      <td>819</td>\n",
              "      <td>328-3211</td>\n",
              "      <td>$417,000</td>\n",
              "    </tr>\n",
              "    <tr>\n",
              "      <th>4</th>\n",
              "      <td>160 GEORGE STREET UNIT#703|Ottawa, Ontario K1N9M2</td>\n",
              "      <td>2 + 0</td>\n",
              "      <td>2</td>\n",
              "      <td>Dionne Caldwell</td>\n",
              "      <td>613</td>\n",
              "      <td>744-5525</td>\n",
              "      <td>$579,000</td>\n",
              "    </tr>\n",
              "    <tr>\n",
              "      <th>5</th>\n",
              "      <td>215 MABEL STREET|Limoges, Ontario K0A2M0</td>\n",
              "      <td>3 + 0</td>\n",
              "      <td>3</td>\n",
              "      <td>Cedrick Gauthier</td>\n",
              "      <td>613</td>\n",
              "      <td>707-5146</td>\n",
              "      <td>$599,900</td>\n",
              "    </tr>\n",
              "    <tr>\n",
              "      <th>6</th>\n",
              "      <td>27 WARREN AVENUE|Ottawa, Ontario K1Y0R9</td>\n",
              "      <td>3 + 0</td>\n",
              "      <td>2</td>\n",
              "      <td>Phil Labbe</td>\n",
              "      <td>613</td>\n",
              "      <td>316-3707</td>\n",
              "      <td>$1,210,000</td>\n",
              "    </tr>\n",
              "    <tr>\n",
              "      <th>7</th>\n",
              "      <td>187 PATTERSON AVENUE|Ottawa, Ontario K1S1Y4</td>\n",
              "      <td>5 + 0</td>\n",
              "      <td>3</td>\n",
              "      <td>Julie Teskey</td>\n",
              "      <td>613</td>\n",
              "      <td>859-6599</td>\n",
              "      <td>$1,549,000</td>\n",
              "    </tr>\n",
              "    <tr>\n",
              "      <th>8</th>\n",
              "      <td>75 ANDERSON STREET|Ottawa, Ontario K1R6T6</td>\n",
              "      <td>3 + 0</td>\n",
              "      <td>1</td>\n",
              "      <td>Frank Di Tiero</td>\n",
              "      <td>613</td>\n",
              "      <td>301-5794</td>\n",
              "      <td>$649,900</td>\n",
              "    </tr>\n",
              "    <tr>\n",
              "      <th>9</th>\n",
              "      <td>85 Rue de Rouville|#24|Gatineau (Gatineau), Qu...</td>\n",
              "      <td>2</td>\n",
              "      <td>1</td>\n",
              "      <td>Yannick Arseneault</td>\n",
              "      <td>819</td>\n",
              "      <td>360-6967</td>\n",
              "      <td>$399,900</td>\n",
              "    </tr>\n",
              "    <tr>\n",
              "      <th>10</th>\n",
              "      <td>399 Rue Jeannine-Grégoire-Ross|Gatineau (Gatin...</td>\n",
              "      <td>4</td>\n",
              "      <td>2</td>\n",
              "      <td>Yannick Arseneault</td>\n",
              "      <td>819</td>\n",
              "      <td>360-6967</td>\n",
              "      <td>$499,000</td>\n",
              "    </tr>\n",
              "    <tr>\n",
              "      <th>11</th>\n",
              "      <td>132 CONSTANCE CREEK DRIVE|Ottawa, Ontario K0A1T0</td>\n",
              "      <td>4 + 1</td>\n",
              "      <td>5</td>\n",
              "      <td>Christine Hauschild</td>\n",
              "      <td>613</td>\n",
              "      <td>799-5570</td>\n",
              "      <td>$1,668,000</td>\n",
              "    </tr>\n",
              "  </tbody>\n",
              "</table>\n",
              "</div>\n",
              "      <button class=\"colab-df-convert\" onclick=\"convertToInteractive('df-2884876d-9e99-4301-9c13-88880bf6071e')\"\n",
              "              title=\"Convert this dataframe to an interactive table.\"\n",
              "              style=\"display:none;\">\n",
              "        \n",
              "  <svg xmlns=\"http://www.w3.org/2000/svg\" height=\"24px\"viewBox=\"0 0 24 24\"\n",
              "       width=\"24px\">\n",
              "    <path d=\"M0 0h24v24H0V0z\" fill=\"none\"/>\n",
              "    <path d=\"M18.56 5.44l.94 2.06.94-2.06 2.06-.94-2.06-.94-.94-2.06-.94 2.06-2.06.94zm-11 1L8.5 8.5l.94-2.06 2.06-.94-2.06-.94L8.5 2.5l-.94 2.06-2.06.94zm10 10l.94 2.06.94-2.06 2.06-.94-2.06-.94-.94-2.06-.94 2.06-2.06.94z\"/><path d=\"M17.41 7.96l-1.37-1.37c-.4-.4-.92-.59-1.43-.59-.52 0-1.04.2-1.43.59L10.3 9.45l-7.72 7.72c-.78.78-.78 2.05 0 2.83L4 21.41c.39.39.9.59 1.41.59.51 0 1.02-.2 1.41-.59l7.78-7.78 2.81-2.81c.8-.78.8-2.07 0-2.86zM5.41 20L4 18.59l7.72-7.72 1.47 1.35L5.41 20z\"/>\n",
              "  </svg>\n",
              "      </button>\n",
              "      \n",
              "  <style>\n",
              "    .colab-df-container {\n",
              "      display:flex;\n",
              "      flex-wrap:wrap;\n",
              "      gap: 12px;\n",
              "    }\n",
              "\n",
              "    .colab-df-convert {\n",
              "      background-color: #E8F0FE;\n",
              "      border: none;\n",
              "      border-radius: 50%;\n",
              "      cursor: pointer;\n",
              "      display: none;\n",
              "      fill: #1967D2;\n",
              "      height: 32px;\n",
              "      padding: 0 0 0 0;\n",
              "      width: 32px;\n",
              "    }\n",
              "\n",
              "    .colab-df-convert:hover {\n",
              "      background-color: #E2EBFA;\n",
              "      box-shadow: 0px 1px 2px rgba(60, 64, 67, 0.3), 0px 1px 3px 1px rgba(60, 64, 67, 0.15);\n",
              "      fill: #174EA6;\n",
              "    }\n",
              "\n",
              "    [theme=dark] .colab-df-convert {\n",
              "      background-color: #3B4455;\n",
              "      fill: #D2E3FC;\n",
              "    }\n",
              "\n",
              "    [theme=dark] .colab-df-convert:hover {\n",
              "      background-color: #434B5C;\n",
              "      box-shadow: 0px 1px 3px 1px rgba(0, 0, 0, 0.15);\n",
              "      filter: drop-shadow(0px 1px 2px rgba(0, 0, 0, 0.3));\n",
              "      fill: #FFFFFF;\n",
              "    }\n",
              "  </style>\n",
              "\n",
              "      <script>\n",
              "        const buttonEl =\n",
              "          document.querySelector('#df-2884876d-9e99-4301-9c13-88880bf6071e button.colab-df-convert');\n",
              "        buttonEl.style.display =\n",
              "          google.colab.kernel.accessAllowed ? 'block' : 'none';\n",
              "\n",
              "        async function convertToInteractive(key) {\n",
              "          const element = document.querySelector('#df-2884876d-9e99-4301-9c13-88880bf6071e');\n",
              "          const dataTable =\n",
              "            await google.colab.kernel.invokeFunction('convertToInteractive',\n",
              "                                                     [key], {});\n",
              "          if (!dataTable) return;\n",
              "\n",
              "          const docLinkHtml = 'Like what you see? Visit the ' +\n",
              "            '<a target=\"_blank\" href=https://colab.research.google.com/notebooks/data_table.ipynb>data table notebook</a>'\n",
              "            + ' to learn more about interactive tables.';\n",
              "          element.innerHTML = '';\n",
              "          dataTable['output_type'] = 'display_data';\n",
              "          await google.colab.output.renderOutput(dataTable, element);\n",
              "          const docLink = document.createElement('div');\n",
              "          docLink.innerHTML = docLinkHtml;\n",
              "          element.appendChild(docLink);\n",
              "        }\n",
              "      </script>\n",
              "    </div>\n",
              "  </div>\n",
              "  "
            ]
          },
          "metadata": {},
          "execution_count": 18
        }
      ]
    },
    {
      "cell_type": "markdown",
      "source": [
        "Step 9 - Multiple Pages"
      ],
      "metadata": {
        "id": "yerjqAQoLagA"
      }
    },
    {
      "cell_type": "code",
      "source": [
        "# Create empty lists, these are the data points I want to extract from the webpage\n",
        "address = []\n",
        "bedrooms = []\n",
        "bathrooms = []\n",
        "agent_name = []\n",
        "area_code = []\n",
        "phone_number = []\n",
        "price = []\n",
        "\n",
        "# iterate over the pages 1 to 51 using the CurrentPage key value as the variable in the for loop to get data from all the pages available. \n",
        "for i in range(1,51):\n",
        "\n",
        "    headers = {\n",
        "        'authority': 'api2.realtor.ca',\n",
        "        'accept': '*/*',\n",
        "        'accept-language': 'en-US,en;q=0.9,cs;q=0.8',\n",
        "        'content-type': 'application/x-www-form-urlencoded; charset=UTF-8',\n",
        "        'cookie': 'visid_incap_2269415=DRpcY4I3SjKFMfalMxSftyaK6WIAAAAAQUIPAAAAAACvrLYGe+e3wDZmQZfgEaBA; nlbi_2269415=B6YSQ7YtUCMAjnPWn2FYxQAAAACYHLiQKXa5Yo8sEYT9lH/D; incap_ses_1291_2269415=SdugIV1PHwRJVXABPo7qESaK6WIAAAAA8vWAvOTCm3r54LL1BaCVtA==; incap_ses_116_2269415=FM63c0UCPQHIXBz0Kh6cASeK6WIAAAAA9WPFdt5xRRbegjs061rpqw==; reese84=3:W3xEMitJn4FeyQaF2XIXWQ==:p7Gd6DFbHB7lgs8ZiewNBgGqjQLo3wb7ZgLM5HEqdiD5sN4Mr44u810tBQhqV2vjU2U1jZhk1XUUaxH3SE6rRKOZt2IsJBaY91rEmL/BfA9TmyLmjn+zJzFmdGtmAiChQgjCUv8dENZu7G/vy9dAv2VS2qzg0HdfHvG9N6GpzCGi9tItYSFdAC8W6Hf1v7ru/vUdI9Gswb/t3vvtWsVgd0VwG0/MuhT3PJHUsJuK826Fry8SmmvyvBkYGWDIE/+2lgErv/802OoFzhg3SoNuJAU5wWhb00pBiZGi02wn5GRKByp4s/E2VoVX6arUlcELR5JUvMfIAehQsgzhbw4HOSKf5nJaZYKSYpYhSV/lyUoqp54LPEcLOcJiPaisJj2GJPoKHsQqa2LX7yNuFJCgwYL/h/luyeyPr/f5IKQnqGA=:/enhsFfOjcbixgt8+8usYgkzfKJI11l1g99of43Onuc=; gig_bootstrap_3_mrQiIl6ov44s2X3j6NGWVZ9SDDtplqV7WgdcyEpGYnYxl7ygDWPQHqQqtpSiUfko=gigya-pr_ver4; ASP.NET_SessionId=4je5mml0zgqlvsnfaxs3egfb; visid_incap_2271082=B8sI/rNOS1O+7SuN27HKhkmK6WIAAAAAQUIPAAAAAADhnJ+CcKEEfvlCTsuuOLuJ; nlbi_2271082=shHQdkaMZgmv7s1ENo2IPAAAAAD0GfZzBej4n1ca1rAudqyl; incap_ses_116_2271082=fbUKUHhRXEGMgxz0Kh6cAUmK6WIAAAAAlXQi/sn9Rh1WHoAG/5A3fg==; nlbi_2269415_2147483392=u6DgadTQhS/ycA2tn2FYxQAAAABhO27gJcvY6w7tSWqOqotq',\n",
        "        'dnt': '1',\n",
        "        'origin': 'https://www.realtor.ca',\n",
        "        'referer': 'https://www.realtor.ca/',\n",
        "        'sec-ch-ua': '^\\\\^.Not/A)Brand^\\\\^;v=^\\\\^99^\\\\^, ^\\\\^Google',\n",
        "        'sec-ch-ua-mobile': '?0',\n",
        "        'sec-ch-ua-platform': '^\\\\^Windows^\\\\^',\n",
        "        'sec-fetch-dest': 'empty',\n",
        "        'sec-fetch-mode': 'cors',\n",
        "        'sec-fetch-site': 'same-site',\n",
        "        'user-agent': 'Mozilla/5.0 (Windows NT 10.0; Win64; x64) AppleWebKit/537.36 (KHTML, like Gecko) Chrome/103.0.0.0 Safari/537.36',\n",
        "    }\n",
        "\n",
        "    data = {\n",
        "    'ZoomLevel': '10',\n",
        "    'LatitudeMax': '45.61508',\n",
        "    'LongitudeMax': '-75.15382',\n",
        "    'LatitudeMin': '44.88320',\n",
        "    'LongitudeMin': '-76.44608',\n",
        "    'Sort': '6-D',\n",
        "    'PropertyTypeGroupID': '1',\n",
        "    'PropertySearchTypeId': '1',\n",
        "    'TransactionTypeId': '2',\n",
        "    'Currency': 'FXUSDCAD',\n",
        "    'RecordsPerPage': '12',\n",
        "    'ApplicationId': '1',\n",
        "    'CultureId': '1',\n",
        "    'Version': '7.0',\n",
        "    'CurrentPage': str(i),\n",
        "    }\n",
        "\n",
        "    # response\n",
        "    response = requests.post('https://api2.realtor.ca/Listing.svc/PropertySearch_Post', headers=headers, data=data)\n",
        "\n",
        "    # create json object\n",
        "    result_json = response.json()\n",
        "\n",
        "    # result items\n",
        "    result_items = result_json['Results']\n",
        "\n",
        "    for result in result_items:\n",
        "\n",
        "        # address\n",
        "        try:\n",
        "            address.append(result['Property']['Address']['AddressText'])\n",
        "        except:\n",
        "            address.append('')\n",
        "\n",
        "        # bedrooms\n",
        "        try:\n",
        "            bedrooms.append(result['Building']['Bedrooms'])\n",
        "        except:\n",
        "            bedrooms.append('')\n",
        "\n",
        "        # bathrooms\n",
        "        try:\n",
        "            bathrooms.append(result['Building']['BathroomTotal'])\n",
        "        except:\n",
        "            bathrooms.append('')\n",
        "\n",
        "        # Agent Name\n",
        "        try:\n",
        "            agent_name.append(result['Individual'][0]['Name'])\n",
        "        except:\n",
        "            agent_name.append('')\n",
        "\n",
        "        # area code\n",
        "        try:\n",
        "            area_code.append(result['Individual'][0]['Phones'][0]['AreaCode'])\n",
        "        except:\n",
        "            area_code.append('')\n",
        "\n",
        "        # phone number\n",
        "        try:\n",
        "            phone_number.append(result['Individual'][0]['Phones'][0]['PhoneNumber'])\n",
        "        except:\n",
        "            phone_number.append('')\n",
        "\n",
        "        # price\n",
        "        try:\n",
        "            price.append(result['Property']['Price'])\n",
        "        except:\n",
        "            price.append('')\n",
        "\n",
        "\n"
      ],
      "metadata": {
        "id": "WiOR_sk5Zu-G"
      },
      "execution_count": 19,
      "outputs": []
    },
    {
      "cell_type": "code",
      "source": [
        "# Take all the data from the for loop above and put it into a Pandas Dataframe, each list should return a column. Re-use the data frame we already created, taking to account the iteration of all the page results.\n",
        "df_realtor = pd.DataFrame({'Address': address, 'Bedrooms': bedrooms, 'Bathrooms': bathrooms, 'Agent Name': agent_name, 'Area Code': area_code, 'Telephone': phone_number, 'Price': price})"
      ],
      "metadata": {
        "id": "VhFR1Kb7b6XZ"
      },
      "execution_count": 20,
      "outputs": []
    },
    {
      "cell_type": "code",
      "source": [
        "# output the data frame to show all results. Running this cell generates 600 rows of real estate listings\n",
        "df_realtor"
      ],
      "metadata": {
        "id": "SnKDHf5zcL3e",
        "outputId": "f744705c-444c-4654-bc9a-93f91eab6b1b",
        "colab": {
          "base_uri": "https://localhost:8080/",
          "height": 520
        }
      },
      "execution_count": 21,
      "outputs": [
        {
          "output_type": "execute_result",
          "data": {
            "text/plain": [
              "                                               Address Bedrooms Bathrooms  \\\n",
              "0        1556 OLD PRESCOTT ROAD|Greely, Ontario K4P1B8    2 + 2         3   \n",
              "1       418 COOKS MILL CRESCENT|Ottawa, Ontario K1V2M9    3 + 0         3   \n",
              "2         206 PARKIN CIRCLE|Gloucester, Ontario K1T4G4    3 + 0         3   \n",
              "3    336 Rue de Pointe-Gatineau|Gatineau (Gatineau)...        2         1   \n",
              "4    160 GEORGE STREET UNIT#703|Ottawa, Ontario K1N9M2    2 + 0         2   \n",
              "..                                                 ...      ...       ...   \n",
              "595           1308 ESSEX STREET|Ottawa, Ontario K1H7P2    3 + 1         4   \n",
              "596  206 Rue des Chantiers|Gatineau (Aylmer), Quebe...        4         1   \n",
              "597  17 Rue du Tournoi|Gatineau (Aylmer), Quebec J9...        5         3   \n",
              "598  49 Rue de Bruxelles|#5|Gatineau (Aylmer), Queb...        2         1   \n",
              "599  1180 Ch. d'Aylmer|#512|Gatineau (Aylmer), Queb...        2         2   \n",
              "\n",
              "          Agent Name Area Code Telephone       Price  \n",
              "0       Ellen Hughes       613  858-8640    $659,000  \n",
              "1     David O'Reilly       613  797-9673    $729,000  \n",
              "2     Marnie Bennett       613  233-8606    $654,900  \n",
              "3     Lucie Dussault       819  328-3211    $417,000  \n",
              "4    Dionne Caldwell       613  744-5525    $579,000  \n",
              "..               ...       ...       ...         ...  \n",
              "595     Sarah Hunter       613  889-0171  $1,198,000  \n",
              "596  Joanna Jasinska       819  351-5151    $679,900  \n",
              "597      Marty Waite       819  665-0033    $849,900  \n",
              "598  Martin Chiasson       819  661-3500    $324,900  \n",
              "599     Philip LeMay       819  923-7777    $499,000  \n",
              "\n",
              "[600 rows x 7 columns]"
            ],
            "text/html": [
              "\n",
              "  <div id=\"df-476ebc0e-718f-4976-a515-ef19b8bd1263\">\n",
              "    <div class=\"colab-df-container\">\n",
              "      <div>\n",
              "<style scoped>\n",
              "    .dataframe tbody tr th:only-of-type {\n",
              "        vertical-align: middle;\n",
              "    }\n",
              "\n",
              "    .dataframe tbody tr th {\n",
              "        vertical-align: top;\n",
              "    }\n",
              "\n",
              "    .dataframe thead th {\n",
              "        text-align: right;\n",
              "    }\n",
              "</style>\n",
              "<table border=\"1\" class=\"dataframe\">\n",
              "  <thead>\n",
              "    <tr style=\"text-align: right;\">\n",
              "      <th></th>\n",
              "      <th>Address</th>\n",
              "      <th>Bedrooms</th>\n",
              "      <th>Bathrooms</th>\n",
              "      <th>Agent Name</th>\n",
              "      <th>Area Code</th>\n",
              "      <th>Telephone</th>\n",
              "      <th>Price</th>\n",
              "    </tr>\n",
              "  </thead>\n",
              "  <tbody>\n",
              "    <tr>\n",
              "      <th>0</th>\n",
              "      <td>1556 OLD PRESCOTT ROAD|Greely, Ontario K4P1B8</td>\n",
              "      <td>2 + 2</td>\n",
              "      <td>3</td>\n",
              "      <td>Ellen Hughes</td>\n",
              "      <td>613</td>\n",
              "      <td>858-8640</td>\n",
              "      <td>$659,000</td>\n",
              "    </tr>\n",
              "    <tr>\n",
              "      <th>1</th>\n",
              "      <td>418 COOKS MILL CRESCENT|Ottawa, Ontario K1V2M9</td>\n",
              "      <td>3 + 0</td>\n",
              "      <td>3</td>\n",
              "      <td>David O'Reilly</td>\n",
              "      <td>613</td>\n",
              "      <td>797-9673</td>\n",
              "      <td>$729,000</td>\n",
              "    </tr>\n",
              "    <tr>\n",
              "      <th>2</th>\n",
              "      <td>206 PARKIN CIRCLE|Gloucester, Ontario K1T4G4</td>\n",
              "      <td>3 + 0</td>\n",
              "      <td>3</td>\n",
              "      <td>Marnie Bennett</td>\n",
              "      <td>613</td>\n",
              "      <td>233-8606</td>\n",
              "      <td>$654,900</td>\n",
              "    </tr>\n",
              "    <tr>\n",
              "      <th>3</th>\n",
              "      <td>336 Rue de Pointe-Gatineau|Gatineau (Gatineau)...</td>\n",
              "      <td>2</td>\n",
              "      <td>1</td>\n",
              "      <td>Lucie Dussault</td>\n",
              "      <td>819</td>\n",
              "      <td>328-3211</td>\n",
              "      <td>$417,000</td>\n",
              "    </tr>\n",
              "    <tr>\n",
              "      <th>4</th>\n",
              "      <td>160 GEORGE STREET UNIT#703|Ottawa, Ontario K1N9M2</td>\n",
              "      <td>2 + 0</td>\n",
              "      <td>2</td>\n",
              "      <td>Dionne Caldwell</td>\n",
              "      <td>613</td>\n",
              "      <td>744-5525</td>\n",
              "      <td>$579,000</td>\n",
              "    </tr>\n",
              "    <tr>\n",
              "      <th>...</th>\n",
              "      <td>...</td>\n",
              "      <td>...</td>\n",
              "      <td>...</td>\n",
              "      <td>...</td>\n",
              "      <td>...</td>\n",
              "      <td>...</td>\n",
              "      <td>...</td>\n",
              "    </tr>\n",
              "    <tr>\n",
              "      <th>595</th>\n",
              "      <td>1308 ESSEX STREET|Ottawa, Ontario K1H7P2</td>\n",
              "      <td>3 + 1</td>\n",
              "      <td>4</td>\n",
              "      <td>Sarah Hunter</td>\n",
              "      <td>613</td>\n",
              "      <td>889-0171</td>\n",
              "      <td>$1,198,000</td>\n",
              "    </tr>\n",
              "    <tr>\n",
              "      <th>596</th>\n",
              "      <td>206 Rue des Chantiers|Gatineau (Aylmer), Quebe...</td>\n",
              "      <td>4</td>\n",
              "      <td>1</td>\n",
              "      <td>Joanna Jasinska</td>\n",
              "      <td>819</td>\n",
              "      <td>351-5151</td>\n",
              "      <td>$679,900</td>\n",
              "    </tr>\n",
              "    <tr>\n",
              "      <th>597</th>\n",
              "      <td>17 Rue du Tournoi|Gatineau (Aylmer), Quebec J9...</td>\n",
              "      <td>5</td>\n",
              "      <td>3</td>\n",
              "      <td>Marty Waite</td>\n",
              "      <td>819</td>\n",
              "      <td>665-0033</td>\n",
              "      <td>$849,900</td>\n",
              "    </tr>\n",
              "    <tr>\n",
              "      <th>598</th>\n",
              "      <td>49 Rue de Bruxelles|#5|Gatineau (Aylmer), Queb...</td>\n",
              "      <td>2</td>\n",
              "      <td>1</td>\n",
              "      <td>Martin Chiasson</td>\n",
              "      <td>819</td>\n",
              "      <td>661-3500</td>\n",
              "      <td>$324,900</td>\n",
              "    </tr>\n",
              "    <tr>\n",
              "      <th>599</th>\n",
              "      <td>1180 Ch. d'Aylmer|#512|Gatineau (Aylmer), Queb...</td>\n",
              "      <td>2</td>\n",
              "      <td>2</td>\n",
              "      <td>Philip LeMay</td>\n",
              "      <td>819</td>\n",
              "      <td>923-7777</td>\n",
              "      <td>$499,000</td>\n",
              "    </tr>\n",
              "  </tbody>\n",
              "</table>\n",
              "<p>600 rows × 7 columns</p>\n",
              "</div>\n",
              "      <button class=\"colab-df-convert\" onclick=\"convertToInteractive('df-476ebc0e-718f-4976-a515-ef19b8bd1263')\"\n",
              "              title=\"Convert this dataframe to an interactive table.\"\n",
              "              style=\"display:none;\">\n",
              "        \n",
              "  <svg xmlns=\"http://www.w3.org/2000/svg\" height=\"24px\"viewBox=\"0 0 24 24\"\n",
              "       width=\"24px\">\n",
              "    <path d=\"M0 0h24v24H0V0z\" fill=\"none\"/>\n",
              "    <path d=\"M18.56 5.44l.94 2.06.94-2.06 2.06-.94-2.06-.94-.94-2.06-.94 2.06-2.06.94zm-11 1L8.5 8.5l.94-2.06 2.06-.94-2.06-.94L8.5 2.5l-.94 2.06-2.06.94zm10 10l.94 2.06.94-2.06 2.06-.94-2.06-.94-.94-2.06-.94 2.06-2.06.94z\"/><path d=\"M17.41 7.96l-1.37-1.37c-.4-.4-.92-.59-1.43-.59-.52 0-1.04.2-1.43.59L10.3 9.45l-7.72 7.72c-.78.78-.78 2.05 0 2.83L4 21.41c.39.39.9.59 1.41.59.51 0 1.02-.2 1.41-.59l7.78-7.78 2.81-2.81c.8-.78.8-2.07 0-2.86zM5.41 20L4 18.59l7.72-7.72 1.47 1.35L5.41 20z\"/>\n",
              "  </svg>\n",
              "      </button>\n",
              "      \n",
              "  <style>\n",
              "    .colab-df-container {\n",
              "      display:flex;\n",
              "      flex-wrap:wrap;\n",
              "      gap: 12px;\n",
              "    }\n",
              "\n",
              "    .colab-df-convert {\n",
              "      background-color: #E8F0FE;\n",
              "      border: none;\n",
              "      border-radius: 50%;\n",
              "      cursor: pointer;\n",
              "      display: none;\n",
              "      fill: #1967D2;\n",
              "      height: 32px;\n",
              "      padding: 0 0 0 0;\n",
              "      width: 32px;\n",
              "    }\n",
              "\n",
              "    .colab-df-convert:hover {\n",
              "      background-color: #E2EBFA;\n",
              "      box-shadow: 0px 1px 2px rgba(60, 64, 67, 0.3), 0px 1px 3px 1px rgba(60, 64, 67, 0.15);\n",
              "      fill: #174EA6;\n",
              "    }\n",
              "\n",
              "    [theme=dark] .colab-df-convert {\n",
              "      background-color: #3B4455;\n",
              "      fill: #D2E3FC;\n",
              "    }\n",
              "\n",
              "    [theme=dark] .colab-df-convert:hover {\n",
              "      background-color: #434B5C;\n",
              "      box-shadow: 0px 1px 3px 1px rgba(0, 0, 0, 0.15);\n",
              "      filter: drop-shadow(0px 1px 2px rgba(0, 0, 0, 0.3));\n",
              "      fill: #FFFFFF;\n",
              "    }\n",
              "  </style>\n",
              "\n",
              "      <script>\n",
              "        const buttonEl =\n",
              "          document.querySelector('#df-476ebc0e-718f-4976-a515-ef19b8bd1263 button.colab-df-convert');\n",
              "        buttonEl.style.display =\n",
              "          google.colab.kernel.accessAllowed ? 'block' : 'none';\n",
              "\n",
              "        async function convertToInteractive(key) {\n",
              "          const element = document.querySelector('#df-476ebc0e-718f-4976-a515-ef19b8bd1263');\n",
              "          const dataTable =\n",
              "            await google.colab.kernel.invokeFunction('convertToInteractive',\n",
              "                                                     [key], {});\n",
              "          if (!dataTable) return;\n",
              "\n",
              "          const docLinkHtml = 'Like what you see? Visit the ' +\n",
              "            '<a target=\"_blank\" href=https://colab.research.google.com/notebooks/data_table.ipynb>data table notebook</a>'\n",
              "            + ' to learn more about interactive tables.';\n",
              "          element.innerHTML = '';\n",
              "          dataTable['output_type'] = 'display_data';\n",
              "          await google.colab.output.renderOutput(dataTable, element);\n",
              "          const docLink = document.createElement('div');\n",
              "          docLink.innerHTML = docLinkHtml;\n",
              "          element.appendChild(docLink);\n",
              "        }\n",
              "      </script>\n",
              "    </div>\n",
              "  </div>\n",
              "  "
            ]
          },
          "metadata": {},
          "execution_count": 21
        }
      ]
    },
    {
      "cell_type": "markdown",
      "source": [
        "Step 10 - Store results in Excel"
      ],
      "metadata": {
        "id": "f-XMrO4iZxEh"
      }
    },
    {
      "cell_type": "code",
      "source": [
        "date = datetime.datetime.now().strftime('%Y-%m-%d %H:%M:%S')\n",
        "df_realtor.to_excel('realtor_multiple_pages.xlsx', index=False, header=True)\n",
        "df_realtor.to_excel(f\"realtor_pages_{date}.xlsx\")\n"
      ],
      "metadata": {
        "id": "AMceIyoXZ0N9"
      },
      "execution_count": 22,
      "outputs": []
    },
    {
      "cell_type": "markdown",
      "source": [
        "The code above stores the data frame into an Excel spreadsheet with the columns and rows specified in the code above. The filename will have realtor_pages_(current date).xlsx"
      ],
      "metadata": {
        "id": "5PpdqMU3cvBX"
      }
    }
  ]
}