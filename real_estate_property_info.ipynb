{
  "nbformat": 4,
  "nbformat_minor": 0,
  "metadata": {
    "colab": {
      "name": "stock_price_prediction_app.ipynb",
      "provenance": [],
      "authorship_tag": "ABX9TyMFMlvKa3097KLU0aXZs4pd",
      "include_colab_link": true
    },
    "kernelspec": {
      "name": "python3",
      "display_name": "Python 3"
    },
    "language_info": {
      "name": "python"
    }
  },
  "cells": [
    {
      "cell_type": "markdown",
      "metadata": {
        "id": "view-in-github",
        "colab_type": "text"
      },
      "source": [
        "<a href=\"https://colab.research.google.com/github/bryanwills/python_codelou/blob/main/real_estate_property_info.ipynb\" target=\"_parent\"><img src=\"https://colab.research.google.com/assets/colab-badge.svg\" alt=\"Open In Colab\"/></a>"
      ]
    },
    {
      "cell_type": "markdown",
      "source": [
        "Step 1 - Imports"
      ],
      "metadata": {
        "id": "aQYsRd0fKqDk"
      }
    },
    {
      "cell_type": "code",
      "execution_count": 11,
      "metadata": {
        "id": "6ZH6P5OZIgOx"
      },
      "outputs": [],
      "source": [
        "import requests\n",
        "import pandas as pd"
      ]
    },
    {
      "cell_type": "markdown",
      "source": [
        "Go to realtor.ca site, enter in a search. My example: \"Ottawa, ON\".\n",
        "After making this search, open up DevTools, click on Network and go through the files and locate the query in the form of a curl command. Convert the curl command to a Python request and paste the output below in Step 2. I just Googled curl to python converter.\n",
        "\n",
        "This site was chosen due to the fact that I can pull out their API from dev tools without having to sign up for an API."
      ],
      "metadata": {
        "id": "Upavv1R4Ns8c"
      }
    },
    {
      "cell_type": "markdown",
      "source": [
        "Step 2 - Requests & URL\n"
      ],
      "metadata": {
        "id": "3rCPxzm_KvBv"
      }
    },
    {
      "cell_type": "code",
      "source": [
        "headers = {\n",
        "    'authority': 'api2.realtor.ca',\n",
        "    'accept': '*/*',\n",
        "    'accept-language': 'en-US,en;q=0.9,cs;q=0.8',\n",
        "    'content-type': 'application/x-www-form-urlencoded; charset=UTF-8',\n",
        "    'cookie': 'visid_incap_2269415=DRpcY4I3SjKFMfalMxSftyaK6WIAAAAAQUIPAAAAAACvrLYGe+e3wDZmQZfgEaBA; nlbi_2269415=B6YSQ7YtUCMAjnPWn2FYxQAAAACYHLiQKXa5Yo8sEYT9lH/D; incap_ses_1291_2269415=SdugIV1PHwRJVXABPo7qESaK6WIAAAAA8vWAvOTCm3r54LL1BaCVtA==; incap_ses_116_2269415=FM63c0UCPQHIXBz0Kh6cASeK6WIAAAAA9WPFdt5xRRbegjs061rpqw==; reese84=3:W3xEMitJn4FeyQaF2XIXWQ==:p7Gd6DFbHB7lgs8ZiewNBgGqjQLo3wb7ZgLM5HEqdiD5sN4Mr44u810tBQhqV2vjU2U1jZhk1XUUaxH3SE6rRKOZt2IsJBaY91rEmL/BfA9TmyLmjn+zJzFmdGtmAiChQgjCUv8dENZu7G/vy9dAv2VS2qzg0HdfHvG9N6GpzCGi9tItYSFdAC8W6Hf1v7ru/vUdI9Gswb/t3vvtWsVgd0VwG0/MuhT3PJHUsJuK826Fry8SmmvyvBkYGWDIE/+2lgErv/802OoFzhg3SoNuJAU5wWhb00pBiZGi02wn5GRKByp4s/E2VoVX6arUlcELR5JUvMfIAehQsgzhbw4HOSKf5nJaZYKSYpYhSV/lyUoqp54LPEcLOcJiPaisJj2GJPoKHsQqa2LX7yNuFJCgwYL/h/luyeyPr/f5IKQnqGA=:/enhsFfOjcbixgt8+8usYgkzfKJI11l1g99of43Onuc=; gig_bootstrap_3_mrQiIl6ov44s2X3j6NGWVZ9SDDtplqV7WgdcyEpGYnYxl7ygDWPQHqQqtpSiUfko=gigya-pr_ver4; ASP.NET_SessionId=4je5mml0zgqlvsnfaxs3egfb; visid_incap_2271082=B8sI/rNOS1O+7SuN27HKhkmK6WIAAAAAQUIPAAAAAADhnJ+CcKEEfvlCTsuuOLuJ; nlbi_2271082=shHQdkaMZgmv7s1ENo2IPAAAAAD0GfZzBej4n1ca1rAudqyl; incap_ses_116_2271082=fbUKUHhRXEGMgxz0Kh6cAUmK6WIAAAAAlXQi/sn9Rh1WHoAG/5A3fg==; nlbi_2269415_2147483392=u6DgadTQhS/ycA2tn2FYxQAAAABhO27gJcvY6w7tSWqOqotq',\n",
        "    'dnt': '1',\n",
        "    'origin': 'https://www.realtor.ca',\n",
        "    'referer': 'https://www.realtor.ca/',\n",
        "    'sec-ch-ua': '^\\\\^.Not/A)Brand^\\\\^;v=^\\\\^99^\\\\^, ^\\\\^Google',\n",
        "    'sec-ch-ua-mobile': '?0',\n",
        "    'sec-ch-ua-platform': '^\\\\^Windows^\\\\^',\n",
        "    'sec-fetch-dest': 'empty',\n",
        "    'sec-fetch-mode': 'cors',\n",
        "    'sec-fetch-site': 'same-site',\n",
        "    'user-agent': 'Mozilla/5.0 (Windows NT 10.0; Win64; x64) AppleWebKit/537.36 (KHTML, like Gecko) Chrome/103.0.0.0 Safari/537.36',\n",
        "}\n",
        "\n",
        "data = {\n",
        "  'ZoomLevel': '10',\n",
        "  'LatitudeMax': '45.61508',\n",
        "  'LongitudeMax': '-75.15382',\n",
        "  'LatitudeMin': '44.88320',\n",
        "  'LongitudeMin': '-76.44608',\n",
        "  'Sort': '6-D',\n",
        "  'PropertyTypeGroupID': '1',\n",
        "  'PropertySearchTypeId': '1',\n",
        "  'TransactionTypeId': '2',\n",
        "  'Currency': 'FXUSDCAD',\n",
        "  'RecordsPerPage': '12',\n",
        "  'ApplicationId': '1',\n",
        "  'CultureId': '1',\n",
        "  'Version': '7.0',\n",
        "  'CurrentPage': '1'\n",
        "}\n",
        "\n",
        "response = requests.post('https://api2.realtor.ca/Listing.svc/PropertySearch_Post', headers=headers, data=data)\n"
      ],
      "metadata": {
        "id": "PCM2vtEhKz7e"
      },
      "execution_count": 15,
      "outputs": []
    },
    {
      "cell_type": "code",
      "source": [
        ""
      ],
      "metadata": {
        "id": "0Ae2ZjxdK0YB"
      },
      "execution_count": null,
      "outputs": []
    },
    {
      "cell_type": "markdown",
      "source": [
        "Step 3 - Check Status Code"
      ],
      "metadata": {
        "id": "nyxVj_T1K0_h"
      }
    },
    {
      "cell_type": "code",
      "source": [
        "response"
      ],
      "metadata": {
        "colab": {
          "base_uri": "https://localhost:8080/"
        },
        "id": "7_EYJtvxK31v",
        "outputId": "b98b2bab-4541-4a13-c2c8-921537349fc6"
      },
      "execution_count": 16,
      "outputs": [
        {
          "output_type": "execute_result",
          "data": {
            "text/plain": [
              "<Response [200]>"
            ]
          },
          "metadata": {},
          "execution_count": 16
        }
      ]
    },
    {
      "cell_type": "markdown",
      "source": [
        "Running this cell gets back a Response [200] indicating that the response from the request ran without problem."
      ],
      "metadata": {
        "id": "W9QnAI9_OZfK"
      }
    },
    {
      "cell_type": "markdown",
      "source": [
        "Step 4 - Create JSON Object"
      ],
      "metadata": {
        "id": "ENWd--t1K4R-"
      }
    },
    {
      "cell_type": "code",
      "source": [
        "result_json = response.json()"
      ],
      "metadata": {
        "id": "iMxyWniJK6n_"
      },
      "execution_count": 18,
      "outputs": []
    },
    {
      "cell_type": "markdown",
      "source": [
        "After running the above code cell, the data that comes back is the information we are looking for in json format."
      ],
      "metadata": {
        "id": "PnSQ8kXGRqI1"
      }
    },
    {
      "cell_type": "markdown",
      "source": [
        "Step 5 - Output Keys\n"
      ],
      "metadata": {
        "id": "WmTpIzkzK7AW"
      }
    },
    {
      "cell_type": "code",
      "source": [
        "result_json.keys()"
      ],
      "metadata": {
        "colab": {
          "base_uri": "https://localhost:8080/"
        },
        "id": "Ru4GYV-kK9Du",
        "outputId": "b906942a-f305-497e-8c83-27bdf170b1a5"
      },
      "execution_count": 19,
      "outputs": [
        {
          "output_type": "execute_result",
          "data": {
            "text/plain": [
              "dict_keys(['ErrorCode', 'Paging', 'Results', 'Pins', 'GroupingLevel'])"
            ]
          },
          "metadata": {},
          "execution_count": 19
        }
      ]
    },
    {
      "cell_type": "markdown",
      "source": [
        "Storing keys from webpage (dev tools). This will allow me to extract specific data later on. Specifically, looking at the 'results' key which contains all the information I want and need."
      ],
      "metadata": {
        "id": "H3UsY4aIR-KK"
      }
    },
    {
      "cell_type": "markdown",
      "source": [
        "Step 6 - Find Data\n",
        "\n",
        "\n",
        "1.   Address\n",
        "2.   Bedrooms\n",
        "3.   Bathrooms\n",
        "4.   Agent Name\n",
        "5.   Area Code\n",
        "6.   Phone Number\n",
        "7.   Price\n",
        "\n",
        "\n"
      ],
      "metadata": {
        "id": "X0vlKYf4K9xM"
      }
    },
    {
      "cell_type": "code",
      "source": [
        "# Starting point\n",
        "result_items = result_json['Results']"
      ],
      "metadata": {
        "id": "Lk6G2cQ9LOvx"
      },
      "execution_count": 24,
      "outputs": []
    },
    {
      "cell_type": "code",
      "source": [
        "len(result_items)"
      ],
      "metadata": {
        "id": "xiZEnQxITD-i"
      },
      "execution_count": null,
      "outputs": []
    },
    {
      "cell_type": "markdown",
      "source": [
        "Running the above code allows me to see the information from the results dictionary key. If I were to put len(result_json['Results']), I would get back '12' which is the same amount of search results from the website or after storing the results into a variable, I can check the length by the above code. For now, I am going to store that data in result_items variable."
      ],
      "metadata": {
        "id": "nvkaoVNzSf2Z"
      }
    },
    {
      "cell_type": "code",
      "source": [
        "# address of first result using the index of '0'\n",
        "result_items[0]['Property']['Address']['AddressText']\n",
        "# targeting the 'Property' key to get the address since it is within the property key.\n",
        "# Going further to get the specific data I am looking for, I keep going down the 'keys' until I have just the street address I need.\n"
      ],
      "metadata": {
        "colab": {
          "base_uri": "https://localhost:8080/",
          "height": 37
        },
        "id": "rB8CaQsXLOyW",
        "outputId": "371d8ca9-ca0b-4d33-86e8-38bb6a5ea06e"
      },
      "execution_count": 31,
      "outputs": [
        {
          "output_type": "execute_result",
          "data": {
            "text/plain": [
              "'206 Rue des Chantiers|Gatineau (Aylmer), Quebec J9J1V3'"
            ],
            "application/vnd.google.colaboratory.intrinsic+json": {
              "type": "string"
            }
          },
          "metadata": {},
          "execution_count": 31
        }
      ]
    },
    {
      "cell_type": "code",
      "source": [
        "# Get bedroom information "
      ],
      "metadata": {
        "id": "nslcYak9ULyZ"
      },
      "execution_count": null,
      "outputs": []
    },
    {
      "cell_type": "markdown",
      "source": [
        "Step 7 - Put it all together and loop through results appending data inside a list"
      ],
      "metadata": {
        "id": "Sj6EhGySLPjO"
      }
    },
    {
      "cell_type": "code",
      "source": [
        ""
      ],
      "metadata": {
        "id": "ke8aQqLyLUxj"
      },
      "execution_count": null,
      "outputs": []
    },
    {
      "cell_type": "markdown",
      "source": [
        "Step 8 - Pandas Dataframe"
      ],
      "metadata": {
        "id": "saJldLSmLVLz"
      }
    },
    {
      "cell_type": "code",
      "source": [
        ""
      ],
      "metadata": {
        "id": "k5daYMwXLXv_"
      },
      "execution_count": null,
      "outputs": []
    },
    {
      "cell_type": "markdown",
      "source": [
        "Step 9 - Multiple Pages"
      ],
      "metadata": {
        "id": "yerjqAQoLagA"
      }
    }
  ]
}