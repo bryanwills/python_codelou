{
  "nbformat": 4,
  "nbformat_minor": 0,
  "metadata": {
    "colab": {
      "name": "stock_price_prediction_app.ipynb",
      "provenance": [],
      "authorship_tag": "ABX9TyNU2lY4fpiRGMtlHygk8D/8",
      "include_colab_link": true
    },
    "kernelspec": {
      "name": "python3",
      "display_name": "Python 3"
    },
    "language_info": {
      "name": "python"
    }
  },
  "cells": [
    {
      "cell_type": "markdown",
      "metadata": {
        "id": "view-in-github",
        "colab_type": "text"
      },
      "source": [
        "<a href=\"https://colab.research.google.com/github/bryanwills/python_codelou/blob/main/stock_price_prediction_app.ipynb\" target=\"_parent\"><img src=\"https://colab.research.google.com/assets/colab-badge.svg\" alt=\"Open In Colab\"/></a>"
      ]
    },
    {
      "cell_type": "markdown",
      "source": [
        "Step 1 - Imports"
      ],
      "metadata": {
        "id": "aQYsRd0fKqDk"
      }
    },
    {
      "cell_type": "code",
      "execution_count": null,
      "metadata": {
        "id": "6ZH6P5OZIgOx"
      },
      "outputs": [],
      "source": [
        ""
      ]
    },
    {
      "cell_type": "markdown",
      "source": [
        "Step 2 - Requests & URL\n"
      ],
      "metadata": {
        "id": "3rCPxzm_KvBv"
      }
    },
    {
      "cell_type": "code",
      "source": [
        ""
      ],
      "metadata": {
        "id": "PCM2vtEhKz7e"
      },
      "execution_count": null,
      "outputs": []
    },
    {
      "cell_type": "code",
      "source": [
        ""
      ],
      "metadata": {
        "id": "0Ae2ZjxdK0YB"
      },
      "execution_count": null,
      "outputs": []
    },
    {
      "cell_type": "markdown",
      "source": [
        "Step 3 - Check Status Code"
      ],
      "metadata": {
        "id": "nyxVj_T1K0_h"
      }
    },
    {
      "cell_type": "code",
      "source": [
        ""
      ],
      "metadata": {
        "id": "7_EYJtvxK31v"
      },
      "execution_count": null,
      "outputs": []
    },
    {
      "cell_type": "markdown",
      "source": [
        "Step 4 - Create JSON Object"
      ],
      "metadata": {
        "id": "ENWd--t1K4R-"
      }
    },
    {
      "cell_type": "code",
      "source": [
        ""
      ],
      "metadata": {
        "id": "iMxyWniJK6n_"
      },
      "execution_count": null,
      "outputs": []
    },
    {
      "cell_type": "markdown",
      "source": [
        "Step 5 - Output Keys\n"
      ],
      "metadata": {
        "id": "WmTpIzkzK7AW"
      }
    },
    {
      "cell_type": "code",
      "source": [
        ""
      ],
      "metadata": {
        "id": "Ru4GYV-kK9Du"
      },
      "execution_count": null,
      "outputs": []
    },
    {
      "cell_type": "markdown",
      "source": [
        "Step 6 - Find Data\n",
        "\n",
        "\n",
        "1.   Address\n",
        "2.   Bedrooms\n",
        "3.   Bathrooms\n",
        "4.   Agent Name\n",
        "5.   Area Code\n",
        "6.   Phone Number\n",
        "7.   Price\n",
        "\n",
        "\n"
      ],
      "metadata": {
        "id": "X0vlKYf4K9xM"
      }
    },
    {
      "cell_type": "code",
      "source": [
        ""
      ],
      "metadata": {
        "id": "Lk6G2cQ9LOvx"
      },
      "execution_count": null,
      "outputs": []
    },
    {
      "cell_type": "code",
      "source": [
        ""
      ],
      "metadata": {
        "id": "rB8CaQsXLOyW"
      },
      "execution_count": null,
      "outputs": []
    },
    {
      "cell_type": "markdown",
      "source": [
        "Step 7 - Put it all together and loop through results appending data inside a list"
      ],
      "metadata": {
        "id": "Sj6EhGySLPjO"
      }
    },
    {
      "cell_type": "code",
      "source": [
        ""
      ],
      "metadata": {
        "id": "ke8aQqLyLUxj"
      },
      "execution_count": null,
      "outputs": []
    },
    {
      "cell_type": "markdown",
      "source": [
        "Step 8 - Pandas Dataframe"
      ],
      "metadata": {
        "id": "saJldLSmLVLz"
      }
    },
    {
      "cell_type": "code",
      "source": [
        ""
      ],
      "metadata": {
        "id": "k5daYMwXLXv_"
      },
      "execution_count": null,
      "outputs": []
    },
    {
      "cell_type": "markdown",
      "source": [
        "Step 9 - Multiple Pages"
      ],
      "metadata": {
        "id": "yerjqAQoLagA"
      }
    }
  ]
}